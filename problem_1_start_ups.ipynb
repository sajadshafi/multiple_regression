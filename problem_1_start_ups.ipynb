{
 "cells": [
  {
   "cell_type": "markdown",
   "id": "known-klein",
   "metadata": {},
   "source": [
    "# Multiple Regression Assignment one:\n",
    "## The Fifty Startups"
   ]
  },
  {
   "cell_type": "code",
   "execution_count": 1,
   "id": "stone-injection",
   "metadata": {},
   "outputs": [],
   "source": [
    "# Import important libraries\n",
    "import numpy as np\n",
    "import pandas as pd\n",
    "import seaborn as sns\n",
    "from sklearn.preprocessing import LabelEncoder\n",
    "import statsmodels.formula.api as smf\n",
    "from matplotlib import pyplot as plt"
   ]
  },
  {
   "cell_type": "code",
   "execution_count": 2,
   "id": "nervous-dressing",
   "metadata": {},
   "outputs": [
    {
     "data": {
      "text/html": [
       "<div>\n",
       "<style scoped>\n",
       "    .dataframe tbody tr th:only-of-type {\n",
       "        vertical-align: middle;\n",
       "    }\n",
       "\n",
       "    .dataframe tbody tr th {\n",
       "        vertical-align: top;\n",
       "    }\n",
       "\n",
       "    .dataframe thead th {\n",
       "        text-align: right;\n",
       "    }\n",
       "</style>\n",
       "<table border=\"1\" class=\"dataframe\">\n",
       "  <thead>\n",
       "    <tr style=\"text-align: right;\">\n",
       "      <th></th>\n",
       "      <th>R&amp;D Spend</th>\n",
       "      <th>Administration</th>\n",
       "      <th>Marketing Spend</th>\n",
       "      <th>State</th>\n",
       "      <th>Profit</th>\n",
       "    </tr>\n",
       "  </thead>\n",
       "  <tbody>\n",
       "    <tr>\n",
       "      <th>0</th>\n",
       "      <td>165349.20</td>\n",
       "      <td>136897.80</td>\n",
       "      <td>471784.10</td>\n",
       "      <td>New York</td>\n",
       "      <td>192261.83</td>\n",
       "    </tr>\n",
       "    <tr>\n",
       "      <th>1</th>\n",
       "      <td>162597.70</td>\n",
       "      <td>151377.59</td>\n",
       "      <td>443898.53</td>\n",
       "      <td>California</td>\n",
       "      <td>191792.06</td>\n",
       "    </tr>\n",
       "    <tr>\n",
       "      <th>2</th>\n",
       "      <td>153441.51</td>\n",
       "      <td>101145.55</td>\n",
       "      <td>407934.54</td>\n",
       "      <td>Florida</td>\n",
       "      <td>191050.39</td>\n",
       "    </tr>\n",
       "    <tr>\n",
       "      <th>3</th>\n",
       "      <td>144372.41</td>\n",
       "      <td>118671.85</td>\n",
       "      <td>383199.62</td>\n",
       "      <td>New York</td>\n",
       "      <td>182901.99</td>\n",
       "    </tr>\n",
       "    <tr>\n",
       "      <th>4</th>\n",
       "      <td>142107.34</td>\n",
       "      <td>91391.77</td>\n",
       "      <td>366168.42</td>\n",
       "      <td>Florida</td>\n",
       "      <td>166187.94</td>\n",
       "    </tr>\n",
       "  </tbody>\n",
       "</table>\n",
       "</div>"
      ],
      "text/plain": [
       "   R&D Spend  Administration  Marketing Spend       State     Profit\n",
       "0  165349.20       136897.80        471784.10    New York  192261.83\n",
       "1  162597.70       151377.59        443898.53  California  191792.06\n",
       "2  153441.51       101145.55        407934.54     Florida  191050.39\n",
       "3  144372.41       118671.85        383199.62    New York  182901.99\n",
       "4  142107.34        91391.77        366168.42     Florida  166187.94"
      ]
     },
     "execution_count": 2,
     "metadata": {},
     "output_type": "execute_result"
    }
   ],
   "source": [
    "# Read the data set\n",
    "startup = pd.read_csv(\"data/startups.csv\")\n",
    "startup.head()"
   ]
  },
  {
   "cell_type": "code",
   "execution_count": null,
   "id": "indian-nutrition",
   "metadata": {},
   "outputs": [],
   "source": []
  },
  {
   "cell_type": "code",
   "execution_count": null,
   "id": "gross-polymer",
   "metadata": {},
   "outputs": [],
   "source": []
  },
  {
   "cell_type": "markdown",
   "id": "comic-poison",
   "metadata": {},
   "source": [
    "# Performing EDA"
   ]
  },
  {
   "cell_type": "code",
   "execution_count": null,
   "id": "crucial-floating",
   "metadata": {},
   "outputs": [],
   "source": []
  },
  {
   "cell_type": "markdown",
   "id": "comfortable-russell",
   "metadata": {},
   "source": [
    "## Checking for null values"
   ]
  },
  {
   "cell_type": "code",
   "execution_count": 3,
   "id": "unique-soviet",
   "metadata": {},
   "outputs": [
    {
     "name": "stdout",
     "output_type": "stream",
     "text": [
      "<class 'pandas.core.frame.DataFrame'>\n",
      "RangeIndex: 50 entries, 0 to 49\n",
      "Data columns (total 5 columns):\n",
      " #   Column           Non-Null Count  Dtype  \n",
      "---  ------           --------------  -----  \n",
      " 0   R&D Spend        50 non-null     float64\n",
      " 1   Administration   50 non-null     float64\n",
      " 2   Marketing Spend  50 non-null     float64\n",
      " 3   State            50 non-null     object \n",
      " 4   Profit           50 non-null     float64\n",
      "dtypes: float64(4), object(1)\n",
      "memory usage: 2.1+ KB\n"
     ]
    }
   ],
   "source": [
    "startup.info()"
   ]
  },
  {
   "cell_type": "markdown",
   "id": "prepared-alberta",
   "metadata": {},
   "source": [
    "#### There are no Null Values"
   ]
  },
  {
   "cell_type": "markdown",
   "id": "nearby-things",
   "metadata": {},
   "source": [
    "### Renaming the columns to avoid the naming errors"
   ]
  },
  {
   "cell_type": "code",
   "execution_count": 4,
   "id": "adverse-cannon",
   "metadata": {},
   "outputs": [],
   "source": [
    "startup = startup.rename({\"R&D Spend\": \"r_d_spend\"}, axis = 1)\n",
    "startup = startup.rename({\"Marketing Spend\": \"marketing_spend\"}, axis = 1)"
   ]
  },
  {
   "cell_type": "code",
   "execution_count": null,
   "id": "synthetic-observer",
   "metadata": {},
   "outputs": [],
   "source": []
  },
  {
   "cell_type": "code",
   "execution_count": 5,
   "id": "southwest-service",
   "metadata": {},
   "outputs": [],
   "source": [
    "# Replacing 0 values with nan\n",
    "startup.replace(0, np.nan, inplace=True)"
   ]
  },
  {
   "cell_type": "code",
   "execution_count": 6,
   "id": "chief-protein",
   "metadata": {},
   "outputs": [],
   "source": [
    "# drop nan values\n",
    "startup.dropna(inplace=True)"
   ]
  },
  {
   "cell_type": "code",
   "execution_count": 7,
   "id": "charged-qualification",
   "metadata": {},
   "outputs": [],
   "source": [
    "# Creating a backup copy of startup data\n",
    "startup_copy = startup.copy()"
   ]
  },
  {
   "cell_type": "code",
   "execution_count": 8,
   "id": "found-ranch",
   "metadata": {},
   "outputs": [
    {
     "data": {
      "text/html": [
       "<div>\n",
       "<style scoped>\n",
       "    .dataframe tbody tr th:only-of-type {\n",
       "        vertical-align: middle;\n",
       "    }\n",
       "\n",
       "    .dataframe tbody tr th {\n",
       "        vertical-align: top;\n",
       "    }\n",
       "\n",
       "    .dataframe thead th {\n",
       "        text-align: right;\n",
       "    }\n",
       "</style>\n",
       "<table border=\"1\" class=\"dataframe\">\n",
       "  <thead>\n",
       "    <tr style=\"text-align: right;\">\n",
       "      <th></th>\n",
       "      <th>r_d_spend</th>\n",
       "      <th>Administration</th>\n",
       "      <th>marketing_spend</th>\n",
       "      <th>State</th>\n",
       "      <th>Profit</th>\n",
       "    </tr>\n",
       "  </thead>\n",
       "  <tbody>\n",
       "    <tr>\n",
       "      <th>0</th>\n",
       "      <td>165349.20</td>\n",
       "      <td>136897.80</td>\n",
       "      <td>471784.10</td>\n",
       "      <td>New York</td>\n",
       "      <td>192261.83</td>\n",
       "    </tr>\n",
       "    <tr>\n",
       "      <th>1</th>\n",
       "      <td>162597.70</td>\n",
       "      <td>151377.59</td>\n",
       "      <td>443898.53</td>\n",
       "      <td>California</td>\n",
       "      <td>191792.06</td>\n",
       "    </tr>\n",
       "    <tr>\n",
       "      <th>2</th>\n",
       "      <td>153441.51</td>\n",
       "      <td>101145.55</td>\n",
       "      <td>407934.54</td>\n",
       "      <td>Florida</td>\n",
       "      <td>191050.39</td>\n",
       "    </tr>\n",
       "    <tr>\n",
       "      <th>3</th>\n",
       "      <td>144372.41</td>\n",
       "      <td>118671.85</td>\n",
       "      <td>383199.62</td>\n",
       "      <td>New York</td>\n",
       "      <td>182901.99</td>\n",
       "    </tr>\n",
       "    <tr>\n",
       "      <th>4</th>\n",
       "      <td>142107.34</td>\n",
       "      <td>91391.77</td>\n",
       "      <td>366168.42</td>\n",
       "      <td>Florida</td>\n",
       "      <td>166187.94</td>\n",
       "    </tr>\n",
       "  </tbody>\n",
       "</table>\n",
       "</div>"
      ],
      "text/plain": [
       "   r_d_spend  Administration  marketing_spend       State     Profit\n",
       "0  165349.20       136897.80        471784.10    New York  192261.83\n",
       "1  162597.70       151377.59        443898.53  California  191792.06\n",
       "2  153441.51       101145.55        407934.54     Florida  191050.39\n",
       "3  144372.41       118671.85        383199.62    New York  182901.99\n",
       "4  142107.34        91391.77        366168.42     Florida  166187.94"
      ]
     },
     "execution_count": 8,
     "metadata": {},
     "output_type": "execute_result"
    }
   ],
   "source": [
    "startup_copy.head()"
   ]
  },
  {
   "cell_type": "markdown",
   "id": "likely-finland",
   "metadata": {},
   "source": [
    "### Handling Categorical data column that is State"
   ]
  },
  {
   "cell_type": "code",
   "execution_count": 9,
   "id": "needed-heather",
   "metadata": {},
   "outputs": [],
   "source": [
    "le = LabelEncoder()\n",
    "startup[\"State\"] = le.fit_transform(startup[\"State\"].astype(str))"
   ]
  },
  {
   "cell_type": "code",
   "execution_count": 10,
   "id": "interim-prince",
   "metadata": {},
   "outputs": [
    {
     "data": {
      "text/html": [
       "<div>\n",
       "<style scoped>\n",
       "    .dataframe tbody tr th:only-of-type {\n",
       "        vertical-align: middle;\n",
       "    }\n",
       "\n",
       "    .dataframe tbody tr th {\n",
       "        vertical-align: top;\n",
       "    }\n",
       "\n",
       "    .dataframe thead th {\n",
       "        text-align: right;\n",
       "    }\n",
       "</style>\n",
       "<table border=\"1\" class=\"dataframe\">\n",
       "  <thead>\n",
       "    <tr style=\"text-align: right;\">\n",
       "      <th></th>\n",
       "      <th>r_d_spend</th>\n",
       "      <th>Administration</th>\n",
       "      <th>marketing_spend</th>\n",
       "      <th>State</th>\n",
       "      <th>Profit</th>\n",
       "    </tr>\n",
       "  </thead>\n",
       "  <tbody>\n",
       "    <tr>\n",
       "      <th>0</th>\n",
       "      <td>165349.20</td>\n",
       "      <td>136897.80</td>\n",
       "      <td>471784.10</td>\n",
       "      <td>2</td>\n",
       "      <td>192261.83</td>\n",
       "    </tr>\n",
       "    <tr>\n",
       "      <th>1</th>\n",
       "      <td>162597.70</td>\n",
       "      <td>151377.59</td>\n",
       "      <td>443898.53</td>\n",
       "      <td>0</td>\n",
       "      <td>191792.06</td>\n",
       "    </tr>\n",
       "    <tr>\n",
       "      <th>2</th>\n",
       "      <td>153441.51</td>\n",
       "      <td>101145.55</td>\n",
       "      <td>407934.54</td>\n",
       "      <td>1</td>\n",
       "      <td>191050.39</td>\n",
       "    </tr>\n",
       "    <tr>\n",
       "      <th>3</th>\n",
       "      <td>144372.41</td>\n",
       "      <td>118671.85</td>\n",
       "      <td>383199.62</td>\n",
       "      <td>2</td>\n",
       "      <td>182901.99</td>\n",
       "    </tr>\n",
       "    <tr>\n",
       "      <th>4</th>\n",
       "      <td>142107.34</td>\n",
       "      <td>91391.77</td>\n",
       "      <td>366168.42</td>\n",
       "      <td>1</td>\n",
       "      <td>166187.94</td>\n",
       "    </tr>\n",
       "  </tbody>\n",
       "</table>\n",
       "</div>"
      ],
      "text/plain": [
       "   r_d_spend  Administration  marketing_spend  State     Profit\n",
       "0  165349.20       136897.80        471784.10      2  192261.83\n",
       "1  162597.70       151377.59        443898.53      0  191792.06\n",
       "2  153441.51       101145.55        407934.54      1  191050.39\n",
       "3  144372.41       118671.85        383199.62      2  182901.99\n",
       "4  142107.34        91391.77        366168.42      1  166187.94"
      ]
     },
     "execution_count": 10,
     "metadata": {},
     "output_type": "execute_result"
    }
   ],
   "source": [
    "startup.head()"
   ]
  },
  {
   "cell_type": "code",
   "execution_count": null,
   "id": "computational-classic",
   "metadata": {},
   "outputs": [],
   "source": []
  },
  {
   "cell_type": "markdown",
   "id": "normal-skating",
   "metadata": {},
   "source": [
    "### Visualizing the data using pairplot"
   ]
  },
  {
   "cell_type": "code",
   "execution_count": 11,
   "id": "micro-saudi",
   "metadata": {},
   "outputs": [
    {
     "data": {
      "text/plain": [
       "<seaborn.axisgrid.PairGrid at 0x7fd3a7cb2cd0>"
      ]
     },
     "execution_count": 11,
     "metadata": {},
     "output_type": "execute_result"
    },
    {
     "data": {
      "image/png": "[encoded data removed]",
      "text/plain": [
       "<Figure size 900x900 with 30 Axes>"
      ]
     },
     "metadata": {
      "needs_background": "light"
     },
     "output_type": "display_data"
    }
   ],
   "source": [
    "sns.pairplot(startup)"
   ]
  },
  {
   "cell_type": "code",
   "execution_count": null,
   "id": "known-celebration",
   "metadata": {},
   "outputs": [],
   "source": []
  },
  {
   "cell_type": "code",
   "execution_count": 12,
   "id": "fatty-beverage",
   "metadata": {},
   "outputs": [
    {
     "data": {
      "text/html": [
       "<div>\n",
       "<style scoped>\n",
       "    .dataframe tbody tr th:only-of-type {\n",
       "        vertical-align: middle;\n",
       "    }\n",
       "\n",
       "    .dataframe tbody tr th {\n",
       "        vertical-align: top;\n",
       "    }\n",
       "\n",
       "    .dataframe thead th {\n",
       "        text-align: right;\n",
       "    }\n",
       "</style>\n",
       "<table border=\"1\" class=\"dataframe\">\n",
       "  <thead>\n",
       "    <tr style=\"text-align: right;\">\n",
       "      <th></th>\n",
       "      <th>r_d_spend</th>\n",
       "      <th>Administration</th>\n",
       "      <th>marketing_spend</th>\n",
       "      <th>State</th>\n",
       "      <th>Profit</th>\n",
       "    </tr>\n",
       "  </thead>\n",
       "  <tbody>\n",
       "    <tr>\n",
       "      <th>r_d_spend</th>\n",
       "      <td>1.000000</td>\n",
       "      <td>0.196068</td>\n",
       "      <td>0.708253</td>\n",
       "      <td>0.068001</td>\n",
       "      <td>0.977703</td>\n",
       "    </tr>\n",
       "    <tr>\n",
       "      <th>Administration</th>\n",
       "      <td>0.196068</td>\n",
       "      <td>1.000000</td>\n",
       "      <td>-0.085831</td>\n",
       "      <td>0.061616</td>\n",
       "      <td>0.135076</td>\n",
       "    </tr>\n",
       "    <tr>\n",
       "      <th>marketing_spend</th>\n",
       "      <td>0.708253</td>\n",
       "      <td>-0.085831</td>\n",
       "      <td>1.000000</td>\n",
       "      <td>0.105814</td>\n",
       "      <td>0.732277</td>\n",
       "    </tr>\n",
       "    <tr>\n",
       "      <th>State</th>\n",
       "      <td>0.068001</td>\n",
       "      <td>0.061616</td>\n",
       "      <td>0.105814</td>\n",
       "      <td>1.000000</td>\n",
       "      <td>0.050151</td>\n",
       "    </tr>\n",
       "    <tr>\n",
       "      <th>Profit</th>\n",
       "      <td>0.977703</td>\n",
       "      <td>0.135076</td>\n",
       "      <td>0.732277</td>\n",
       "      <td>0.050151</td>\n",
       "      <td>1.000000</td>\n",
       "    </tr>\n",
       "  </tbody>\n",
       "</table>\n",
       "</div>"
      ],
      "text/plain": [
       "                 r_d_spend  Administration  marketing_spend     State  \\\n",
       "r_d_spend         1.000000        0.196068         0.708253  0.068001   \n",
       "Administration    0.196068        1.000000        -0.085831  0.061616   \n",
       "marketing_spend   0.708253       -0.085831         1.000000  0.105814   \n",
       "State             0.068001        0.061616         0.105814  1.000000   \n",
       "Profit            0.977703        0.135076         0.732277  0.050151   \n",
       "\n",
       "                   Profit  \n",
       "r_d_spend        0.977703  \n",
       "Administration   0.135076  \n",
       "marketing_spend  0.732277  \n",
       "State            0.050151  \n",
       "Profit           1.000000  "
      ]
     },
     "execution_count": 12,
     "metadata": {},
     "output_type": "execute_result"
    }
   ],
   "source": [
    "startup.corr()"
   ]
  },
  {
   "cell_type": "code",
   "execution_count": 13,
   "id": "final-accent",
   "metadata": {},
   "outputs": [
    {
     "data": {
      "text/plain": [
       "<AxesSubplot:>"
      ]
     },
     "execution_count": 13,
     "metadata": {},
     "output_type": "execute_result"
    },
    {
     "data": {
      "image/png": "[encoded data removed]",
      "text/plain": [
       "<Figure size 720x576 with 2 Axes>"
      ]
     },
     "metadata": {
      "needs_background": "light"
     },
     "output_type": "display_data"
    }
   ],
   "source": [
    "fig = plt.figure(figsize=(10,8))\n",
    "sns.heatmap(startup.corr(), annot = True, center = True, cbar = True, linewidth = 1, vmin=0, vmax=1)"
   ]
  },
  {
   "cell_type": "code",
   "execution_count": null,
   "id": "overhead-review",
   "metadata": {},
   "outputs": [],
   "source": []
  },
  {
   "cell_type": "markdown",
   "id": "proprietary-installation",
   "metadata": {},
   "source": [
    "### Our Dataset has moderate colinearlity as we can see that the marketing_spend and the r_d_spend has a moderate correlation."
   ]
  },
  {
   "cell_type": "markdown",
   "id": "cubic-contributor",
   "metadata": {},
   "source": [
    "### In between Profit and Administration we have the less correlation. So using this columns might lead us to model overfitting as it will not improve our model."
   ]
  },
  {
   "cell_type": "code",
   "execution_count": null,
   "id": "peaceful-cover",
   "metadata": {},
   "outputs": [],
   "source": []
  },
  {
   "cell_type": "code",
   "execution_count": null,
   "id": "growing-connecticut",
   "metadata": {},
   "outputs": [],
   "source": []
  },
  {
   "cell_type": "markdown",
   "id": "daily-referral",
   "metadata": {},
   "source": [
    "### State column cannot be used for multiple regression so it should be removed\n",
    "#### and we have to state the Independent variable and dependent variable.\n",
    "\n",
    "    1. Profit will be the independent variable as we have to predict this variable.\n",
    "    2. r_d_spend, Administration and marketing_spend will be the dependent variable"
   ]
  },
  {
   "cell_type": "code",
   "execution_count": null,
   "id": "signed-escape",
   "metadata": {},
   "outputs": [],
   "source": []
  },
  {
   "cell_type": "code",
   "execution_count": null,
   "id": "numerous-budapest",
   "metadata": {},
   "outputs": [],
   "source": []
  },
  {
   "cell_type": "markdown",
   "id": "significant-american",
   "metadata": {},
   "source": [
    "### Now we will build some models and check their accuracy using VIF(Variance Inflation Factor)"
   ]
  },
  {
   "cell_type": "markdown",
   "id": "significant-timeline",
   "metadata": {},
   "source": [
    "#### Lets define our Dependent variable and Independent Variable"
   ]
  },
  {
   "cell_type": "markdown",
   "id": "inside-recovery",
   "metadata": {},
   "source": [
    "#### Dependent Variable\n",
    "\n",
    " > startup[\"Profit\"]\n",
    "\n",
    "#### Independent Variables\n",
    " > startup[\"r_d_spend\"]\n",
    "\n",
    " > startup[\"Administration\"]\n",
    " \n",
    " > startup[\"marketing_spend\"]\n",
    "\n",
    "#### We will not take state into consideration as it is categorical"
   ]
  },
  {
   "cell_type": "code",
   "execution_count": null,
   "id": "skilled-christmas",
   "metadata": {},
   "outputs": [],
   "source": []
  },
  {
   "cell_type": "markdown",
   "id": "protective-planet",
   "metadata": {},
   "source": [
    "### Without Transformation\n",
    "#### Lets build first model and i will name it as f_model\n",
    "\n",
    "> This model will be build using all of our independent variable regardless of their correlation"
   ]
  },
  {
   "cell_type": "code",
   "execution_count": 14,
   "id": "typical-inventory",
   "metadata": {},
   "outputs": [],
   "source": [
    "f_model = smf.ols(\"Profit~r_d_spend+Administration+marketing_spend\", data = startup).fit()"
   ]
  },
  {
   "cell_type": "code",
   "execution_count": 15,
   "id": "animated-canal",
   "metadata": {
    "collapsed": true,
    "jupyter": {
     "outputs_hidden": true
    }
   },
   "outputs": [
    {
     "data": {
      "text/html": [
       "<table class=\"simpletable\">\n",
       "<caption>OLS Regression Results</caption>\n",
       "<tr>\n",
       "  <th>Dep. Variable:</th>         <td>Profit</td>      <th>  R-squared:         </th> <td>   0.961</td>\n",
       "</tr>\n",
       "<tr>\n",
       "  <th>Model:</th>                   <td>OLS</td>       <th>  Adj. R-squared:    </th> <td>   0.958</td>\n",
       "</tr>\n",
       "<tr>\n",
       "  <th>Method:</th>             <td>Least Squares</td>  <th>  F-statistic:       </th> <td>   343.4</td>\n",
       "</tr>\n",
       "<tr>\n",
       "  <th>Date:</th>             <td>Sun, 24 Jan 2021</td> <th>  Prob (F-statistic):</th> <td>1.47e-29</td>\n",
       "</tr>\n",
       "<tr>\n",
       "  <th>Time:</th>                 <td>09:36:32</td>     <th>  Log-Likelihood:    </th> <td> -472.80</td>\n",
       "</tr>\n",
       "<tr>\n",
       "  <th>No. Observations:</th>      <td>    46</td>      <th>  AIC:               </th> <td>   953.6</td>\n",
       "</tr>\n",
       "<tr>\n",
       "  <th>Df Residuals:</th>          <td>    42</td>      <th>  BIC:               </th> <td>   960.9</td>\n",
       "</tr>\n",
       "<tr>\n",
       "  <th>Df Model:</th>              <td>     3</td>      <th>                     </th>     <td> </td>   \n",
       "</tr>\n",
       "<tr>\n",
       "  <th>Covariance Type:</th>      <td>nonrobust</td>    <th>                     </th>     <td> </td>   \n",
       "</tr>\n",
       "</table>\n",
       "<table class=\"simpletable\">\n",
       "<tr>\n",
       "         <td></td>            <th>coef</th>     <th>std err</th>      <th>t</th>      <th>P>|t|</th>  <th>[0.025</th>    <th>0.975]</th>  \n",
       "</tr>\n",
       "<tr>\n",
       "  <th>Intercept</th>       <td> 5.921e+04</td> <td> 5963.323</td> <td>    9.930</td> <td> 0.000</td> <td> 4.72e+04</td> <td> 7.12e+04</td>\n",
       "</tr>\n",
       "<tr>\n",
       "  <th>r_d_spend</th>       <td>    0.7771</td> <td>    0.038</td> <td>   20.319</td> <td> 0.000</td> <td>    0.700</td> <td>    0.854</td>\n",
       "</tr>\n",
       "<tr>\n",
       "  <th>Administration</th>  <td>   -0.0603</td> <td>    0.044</td> <td>   -1.365</td> <td> 0.179</td> <td>   -0.149</td> <td>    0.029</td>\n",
       "</tr>\n",
       "<tr>\n",
       "  <th>marketing_spend</th> <td>    0.0193</td> <td>    0.015</td> <td>    1.304</td> <td> 0.199</td> <td>   -0.011</td> <td>    0.049</td>\n",
       "</tr>\n",
       "</table>\n",
       "<table class=\"simpletable\">\n",
       "<tr>\n",
       "  <th>Omnibus:</th>       <td> 0.344</td> <th>  Durbin-Watson:     </th> <td>   1.821</td>\n",
       "</tr>\n",
       "<tr>\n",
       "  <th>Prob(Omnibus):</th> <td> 0.842</td> <th>  Jarque-Bera (JB):  </th> <td>   0.518</td>\n",
       "</tr>\n",
       "<tr>\n",
       "  <th>Skew:</th>          <td> 0.071</td> <th>  Prob(JB):          </th> <td>   0.772</td>\n",
       "</tr>\n",
       "<tr>\n",
       "  <th>Kurtosis:</th>      <td> 2.500</td> <th>  Cond. No.          </th> <td>1.59e+06</td>\n",
       "</tr>\n",
       "</table><br/><br/>Notes:<br/>[1] Standard Errors assume that the covariance matrix of the errors is correctly specified.<br/>[2] The condition number is large, 1.59e+06. This might indicate that there are<br/>strong multicollinearity or other numerical problems."
      ],
      "text/plain": [
       "<class 'statsmodels.iolib.summary.Summary'>\n",
       "\"\"\"\n",
       "                            OLS Regression Results                            \n",
       "==============================================================================\n",
       "Dep. Variable:                 Profit   R-squared:                       0.961\n",
       "Model:                            OLS   Adj. R-squared:                  0.958\n",
       "Method:                 Least Squares   F-statistic:                     343.4\n",
       "Date:                Sun, 24 Jan 2021   Prob (F-statistic):           1.47e-29\n",
       "Time:                        09:36:32   Log-Likelihood:                -472.80\n",
       "No. Observations:                  46   AIC:                             953.6\n",
       "Df Residuals:                      42   BIC:                             960.9\n",
       "Df Model:                           3                                         \n",
       "Covariance Type:            nonrobust                                         \n",
       "===================================================================================\n",
       "                      coef    std err          t      P>|t|      [0.025      0.975]\n",
       "-----------------------------------------------------------------------------------\n",
       "Intercept        5.921e+04   5963.323      9.930      0.000    4.72e+04    7.12e+04\n",
       "r_d_spend           0.7771      0.038     20.319      0.000       0.700       0.854\n",
       "Administration     -0.0603      0.044     -1.365      0.179      -0.149       0.029\n",
       "marketing_spend     0.0193      0.015      1.304      0.199      -0.011       0.049\n",
       "==============================================================================\n",
       "Omnibus:                        0.344   Durbin-Watson:                   1.821\n",
       "Prob(Omnibus):                  0.842   Jarque-Bera (JB):                0.518\n",
       "Skew:                           0.071   Prob(JB):                        0.772\n",
       "Kurtosis:                       2.500   Cond. No.                     1.59e+06\n",
       "==============================================================================\n",
       "\n",
       "Notes:\n",
       "[1] Standard Errors assume that the covariance matrix of the errors is correctly specified.\n",
       "[2] The condition number is large, 1.59e+06. This might indicate that there are\n",
       "strong multicollinearity or other numerical problems.\n",
       "\"\"\""
      ]
     },
     "execution_count": 15,
     "metadata": {},
     "output_type": "execute_result"
    }
   ],
   "source": [
    "f_model.summary()"
   ]
  },
  {
   "cell_type": "code",
   "execution_count": null,
   "id": "promising-thread",
   "metadata": {},
   "outputs": [],
   "source": []
  },
  {
   "cell_type": "code",
   "execution_count": 16,
   "id": "bottom-taiwan",
   "metadata": {},
   "outputs": [
    {
     "data": {
      "text/plain": [
       "Intercept          59214.100678\n",
       "r_d_spend              0.777122\n",
       "Administration        -0.060287\n",
       "marketing_spend        0.019257\n",
       "dtype: float64"
      ]
     },
     "execution_count": 16,
     "metadata": {},
     "output_type": "execute_result"
    }
   ],
   "source": [
    "f_model.params"
   ]
  },
  {
   "cell_type": "code",
   "execution_count": 17,
   "id": "final-pearl",
   "metadata": {},
   "outputs": [],
   "source": [
    "rsquared, rsquared_adj, f_aic = (f_model.rsquared, f_model.rsquared_adj, f_model.aic)"
   ]
  },
  {
   "cell_type": "code",
   "execution_count": 18,
   "id": "statewide-sailing",
   "metadata": {},
   "outputs": [
    {
     "name": "stdout",
     "output_type": "stream",
     "text": [
      "0.9608231830180131\n",
      "0.9580248389478712\n",
      "953.6014493655733\n"
     ]
    }
   ],
   "source": [
    "print(rsquared)\n",
    "print(rsquared_adj)\n",
    "print(f_aic)"
   ]
  },
  {
   "cell_type": "code",
   "execution_count": null,
   "id": "sought-cooperative",
   "metadata": {},
   "outputs": [],
   "source": []
  },
  {
   "cell_type": "code",
   "execution_count": null,
   "id": "mental-boulder",
   "metadata": {},
   "outputs": [],
   "source": []
  },
  {
   "cell_type": "code",
   "execution_count": null,
   "id": "documentary-stopping",
   "metadata": {},
   "outputs": [],
   "source": []
  },
  {
   "cell_type": "markdown",
   "id": "sealed-innocent",
   "metadata": {},
   "source": [
    "### Calculating the VIF for independent variables"
   ]
  },
  {
   "cell_type": "code",
   "execution_count": 19,
   "id": "remarkable-booth",
   "metadata": {},
   "outputs": [],
   "source": [
    "rsquared_rdspend = smf.ols('r_d_spend~Administration+marketing_spend',data=startup).fit().rsquared  \n",
    "vif_rdspend = 1/(1-rsquared_rdspend)\n",
    "\n",
    "rsquared_admin = smf.ols('Administration~marketing_spend+r_d_spend',data=startup).fit().rsquared  \n",
    "vif_admin = 1/(1-rsquared_admin)\n",
    "\n",
    "rsquared_marketing = smf.ols('marketing_spend~r_d_spend+Administration',data=startup).fit().rsquared  \n",
    "vif_marketing = 1/(1-rsquared_marketing)"
   ]
  },
  {
   "cell_type": "code",
   "execution_count": 20,
   "id": "drawn-darkness",
   "metadata": {},
   "outputs": [
    {
     "name": "stdout",
     "output_type": "stream",
     "text": [
      "2.315286396444345\n",
      "1.1624511361196475\n",
      "2.2428030670473493\n"
     ]
    }
   ],
   "source": [
    "print(vif_rdspend)\n",
    "print(vif_admin)\n",
    "print(vif_marketing)"
   ]
  },
  {
   "cell_type": "code",
   "execution_count": null,
   "id": "comfortable-identification",
   "metadata": {},
   "outputs": [],
   "source": []
  },
  {
   "cell_type": "code",
   "execution_count": 21,
   "id": "sublime-colony",
   "metadata": {},
   "outputs": [],
   "source": [
    "vif_values = {\"Variables\":[\"rd_spend\", \"administration\", \"marketing_spend\"], \"vif_values\":[vif_rdspend, vif_admin, vif_marketing]}"
   ]
  },
  {
   "cell_type": "code",
   "execution_count": 22,
   "id": "reasonable-timeline",
   "metadata": {},
   "outputs": [],
   "source": [
    "vif_values_df = pd.DataFrame(vif_values)"
   ]
  },
  {
   "cell_type": "code",
   "execution_count": 23,
   "id": "injured-villa",
   "metadata": {},
   "outputs": [
    {
     "data": {
      "text/html": [
       "<div>\n",
       "<style scoped>\n",
       "    .dataframe tbody tr th:only-of-type {\n",
       "        vertical-align: middle;\n",
       "    }\n",
       "\n",
       "    .dataframe tbody tr th {\n",
       "        vertical-align: top;\n",
       "    }\n",
       "\n",
       "    .dataframe thead th {\n",
       "        text-align: right;\n",
       "    }\n",
       "</style>\n",
       "<table border=\"1\" class=\"dataframe\">\n",
       "  <thead>\n",
       "    <tr style=\"text-align: right;\">\n",
       "      <th></th>\n",
       "      <th>Variables</th>\n",
       "      <th>vif_values</th>\n",
       "    </tr>\n",
       "  </thead>\n",
       "  <tbody>\n",
       "    <tr>\n",
       "      <th>0</th>\n",
       "      <td>rd_spend</td>\n",
       "      <td>2.315286</td>\n",
       "    </tr>\n",
       "    <tr>\n",
       "      <th>1</th>\n",
       "      <td>administration</td>\n",
       "      <td>1.162451</td>\n",
       "    </tr>\n",
       "    <tr>\n",
       "      <th>2</th>\n",
       "      <td>marketing_spend</td>\n",
       "      <td>2.242803</td>\n",
       "    </tr>\n",
       "  </tbody>\n",
       "</table>\n",
       "</div>"
      ],
      "text/plain": [
       "         Variables  vif_values\n",
       "0         rd_spend    2.315286\n",
       "1   administration    1.162451\n",
       "2  marketing_spend    2.242803"
      ]
     },
     "execution_count": 23,
     "metadata": {},
     "output_type": "execute_result"
    }
   ],
   "source": [
    "vif_values_df"
   ]
  },
  {
   "cell_type": "markdown",
   "id": "widespread-world",
   "metadata": {},
   "source": [
    "### This means we have moderate colinearity in our dataset\n",
    "\n",
    "> Greater than 5 value of vif means high colinearity\n",
    "\n",
    "> 1 - 5 means moderate colinearity\n",
    "\n",
    "> 1 means no or very less collinearity"
   ]
  },
  {
   "cell_type": "code",
   "execution_count": null,
   "id": "dirty-photographer",
   "metadata": {},
   "outputs": [],
   "source": []
  },
  {
   "cell_type": "markdown",
   "id": "interim-traffic",
   "metadata": {},
   "source": [
    "## Homoscedasticity"
   ]
  },
  {
   "cell_type": "code",
   "execution_count": 24,
   "id": "aerial-tobacco",
   "metadata": {},
   "outputs": [],
   "source": [
    "def get_standardized_values( vals ):\n",
    "    return (vals - vals.mean())/vals.std()"
   ]
  },
  {
   "cell_type": "code",
   "execution_count": 25,
   "id": "composed-industry",
   "metadata": {},
   "outputs": [
    {
     "data": {
      "image/png": "[encoded data removed]",
      "text/plain": [
       "<Figure size 432x288 with 1 Axes>"
      ]
     },
     "metadata": {
      "needs_background": "light"
     },
     "output_type": "display_data"
    }
   ],
   "source": [
    "plt.scatter(get_standardized_values(f_model.fittedvalues),\n",
    "            get_standardized_values(f_model.resid))\n",
    "\n",
    "plt.title('Residual Plot')\n",
    "plt.xlabel('Standardized Fitted values')\n",
    "plt.ylabel('Standardized residual values')\n",
    "plt.show()"
   ]
  },
  {
   "cell_type": "code",
   "execution_count": null,
   "id": "atomic-separate",
   "metadata": {},
   "outputs": [],
   "source": []
  },
  {
   "cell_type": "markdown",
   "id": "departmental-athletics",
   "metadata": {},
   "source": [
    "### Picking a sample from our original dataset for predicting data"
   ]
  },
  {
   "cell_type": "code",
   "execution_count": 26,
   "id": "continued-mailing",
   "metadata": {},
   "outputs": [],
   "source": [
    "sample_data = startup.sample(10)"
   ]
  },
  {
   "cell_type": "code",
   "execution_count": 27,
   "id": "improving-master",
   "metadata": {},
   "outputs": [
    {
     "data": {
      "text/html": [
       "<div>\n",
       "<style scoped>\n",
       "    .dataframe tbody tr th:only-of-type {\n",
       "        vertical-align: middle;\n",
       "    }\n",
       "\n",
       "    .dataframe tbody tr th {\n",
       "        vertical-align: top;\n",
       "    }\n",
       "\n",
       "    .dataframe thead th {\n",
       "        text-align: right;\n",
       "    }\n",
       "</style>\n",
       "<table border=\"1\" class=\"dataframe\">\n",
       "  <thead>\n",
       "    <tr style=\"text-align: right;\">\n",
       "      <th></th>\n",
       "      <th>r_d_spend</th>\n",
       "      <th>Administration</th>\n",
       "      <th>marketing_spend</th>\n",
       "      <th>State</th>\n",
       "      <th>Profit</th>\n",
       "    </tr>\n",
       "  </thead>\n",
       "  <tbody>\n",
       "    <tr>\n",
       "      <th>14</th>\n",
       "      <td>119943.24</td>\n",
       "      <td>156547.42</td>\n",
       "      <td>256512.92</td>\n",
       "      <td>1</td>\n",
       "      <td>132602.65</td>\n",
       "    </tr>\n",
       "    <tr>\n",
       "      <th>20</th>\n",
       "      <td>76253.86</td>\n",
       "      <td>113867.30</td>\n",
       "      <td>298664.47</td>\n",
       "      <td>0</td>\n",
       "      <td>118474.03</td>\n",
       "    </tr>\n",
       "    <tr>\n",
       "      <th>13</th>\n",
       "      <td>91992.39</td>\n",
       "      <td>135495.07</td>\n",
       "      <td>252664.93</td>\n",
       "      <td>0</td>\n",
       "      <td>134307.35</td>\n",
       "    </tr>\n",
       "    <tr>\n",
       "      <th>31</th>\n",
       "      <td>61136.38</td>\n",
       "      <td>152701.92</td>\n",
       "      <td>88218.23</td>\n",
       "      <td>2</td>\n",
       "      <td>97483.56</td>\n",
       "    </tr>\n",
       "    <tr>\n",
       "      <th>29</th>\n",
       "      <td>65605.48</td>\n",
       "      <td>153032.06</td>\n",
       "      <td>107138.38</td>\n",
       "      <td>2</td>\n",
       "      <td>101004.64</td>\n",
       "    </tr>\n",
       "    <tr>\n",
       "      <th>44</th>\n",
       "      <td>22177.74</td>\n",
       "      <td>154806.14</td>\n",
       "      <td>28334.72</td>\n",
       "      <td>0</td>\n",
       "      <td>65200.33</td>\n",
       "    </tr>\n",
       "    <tr>\n",
       "      <th>4</th>\n",
       "      <td>142107.34</td>\n",
       "      <td>91391.77</td>\n",
       "      <td>366168.42</td>\n",
       "      <td>1</td>\n",
       "      <td>166187.94</td>\n",
       "    </tr>\n",
       "    <tr>\n",
       "      <th>24</th>\n",
       "      <td>77044.01</td>\n",
       "      <td>99281.34</td>\n",
       "      <td>140574.81</td>\n",
       "      <td>2</td>\n",
       "      <td>108552.04</td>\n",
       "    </tr>\n",
       "    <tr>\n",
       "      <th>35</th>\n",
       "      <td>46014.02</td>\n",
       "      <td>85047.44</td>\n",
       "      <td>205517.64</td>\n",
       "      <td>2</td>\n",
       "      <td>96479.51</td>\n",
       "    </tr>\n",
       "    <tr>\n",
       "      <th>11</th>\n",
       "      <td>100671.96</td>\n",
       "      <td>91790.61</td>\n",
       "      <td>249744.55</td>\n",
       "      <td>0</td>\n",
       "      <td>144259.40</td>\n",
       "    </tr>\n",
       "  </tbody>\n",
       "</table>\n",
       "</div>"
      ],
      "text/plain": [
       "    r_d_spend  Administration  marketing_spend  State     Profit\n",
       "14  119943.24       156547.42        256512.92      1  132602.65\n",
       "20   76253.86       113867.30        298664.47      0  118474.03\n",
       "13   91992.39       135495.07        252664.93      0  134307.35\n",
       "31   61136.38       152701.92         88218.23      2   97483.56\n",
       "29   65605.48       153032.06        107138.38      2  101004.64\n",
       "44   22177.74       154806.14         28334.72      0   65200.33\n",
       "4   142107.34        91391.77        366168.42      1  166187.94\n",
       "24   77044.01        99281.34        140574.81      2  108552.04\n",
       "35   46014.02        85047.44        205517.64      2   96479.51\n",
       "11  100671.96        91790.61        249744.55      0  144259.40"
      ]
     },
     "execution_count": 27,
     "metadata": {},
     "output_type": "execute_result"
    }
   ],
   "source": [
    "sample_data"
   ]
  },
  {
   "cell_type": "code",
   "execution_count": 28,
   "id": "floppy-truck",
   "metadata": {},
   "outputs": [],
   "source": [
    "sample_data = sample_data.reset_index()"
   ]
  },
  {
   "cell_type": "code",
   "execution_count": 29,
   "id": "behavioral-receiver",
   "metadata": {},
   "outputs": [],
   "source": [
    "sample_data = sample_data.drop([\"index\"], axis=1)"
   ]
  },
  {
   "cell_type": "code",
   "execution_count": 30,
   "id": "eleven-algebra",
   "metadata": {},
   "outputs": [],
   "source": [
    "sample_data = sample_data.drop([\"State\"], axis=1)"
   ]
  },
  {
   "cell_type": "code",
   "execution_count": 31,
   "id": "future-surrey",
   "metadata": {},
   "outputs": [
    {
     "data": {
      "text/html": [
       "<div>\n",
       "<style scoped>\n",
       "    .dataframe tbody tr th:only-of-type {\n",
       "        vertical-align: middle;\n",
       "    }\n",
       "\n",
       "    .dataframe tbody tr th {\n",
       "        vertical-align: top;\n",
       "    }\n",
       "\n",
       "    .dataframe thead th {\n",
       "        text-align: right;\n",
       "    }\n",
       "</style>\n",
       "<table border=\"1\" class=\"dataframe\">\n",
       "  <thead>\n",
       "    <tr style=\"text-align: right;\">\n",
       "      <th></th>\n",
       "      <th>r_d_spend</th>\n",
       "      <th>Administration</th>\n",
       "      <th>marketing_spend</th>\n",
       "      <th>Profit</th>\n",
       "    </tr>\n",
       "  </thead>\n",
       "  <tbody>\n",
       "    <tr>\n",
       "      <th>0</th>\n",
       "      <td>119943.24</td>\n",
       "      <td>156547.42</td>\n",
       "      <td>256512.92</td>\n",
       "      <td>132602.65</td>\n",
       "    </tr>\n",
       "    <tr>\n",
       "      <th>1</th>\n",
       "      <td>76253.86</td>\n",
       "      <td>113867.30</td>\n",
       "      <td>298664.47</td>\n",
       "      <td>118474.03</td>\n",
       "    </tr>\n",
       "    <tr>\n",
       "      <th>2</th>\n",
       "      <td>91992.39</td>\n",
       "      <td>135495.07</td>\n",
       "      <td>252664.93</td>\n",
       "      <td>134307.35</td>\n",
       "    </tr>\n",
       "    <tr>\n",
       "      <th>3</th>\n",
       "      <td>61136.38</td>\n",
       "      <td>152701.92</td>\n",
       "      <td>88218.23</td>\n",
       "      <td>97483.56</td>\n",
       "    </tr>\n",
       "    <tr>\n",
       "      <th>4</th>\n",
       "      <td>65605.48</td>\n",
       "      <td>153032.06</td>\n",
       "      <td>107138.38</td>\n",
       "      <td>101004.64</td>\n",
       "    </tr>\n",
       "    <tr>\n",
       "      <th>5</th>\n",
       "      <td>22177.74</td>\n",
       "      <td>154806.14</td>\n",
       "      <td>28334.72</td>\n",
       "      <td>65200.33</td>\n",
       "    </tr>\n",
       "    <tr>\n",
       "      <th>6</th>\n",
       "      <td>142107.34</td>\n",
       "      <td>91391.77</td>\n",
       "      <td>366168.42</td>\n",
       "      <td>166187.94</td>\n",
       "    </tr>\n",
       "    <tr>\n",
       "      <th>7</th>\n",
       "      <td>77044.01</td>\n",
       "      <td>99281.34</td>\n",
       "      <td>140574.81</td>\n",
       "      <td>108552.04</td>\n",
       "    </tr>\n",
       "    <tr>\n",
       "      <th>8</th>\n",
       "      <td>46014.02</td>\n",
       "      <td>85047.44</td>\n",
       "      <td>205517.64</td>\n",
       "      <td>96479.51</td>\n",
       "    </tr>\n",
       "    <tr>\n",
       "      <th>9</th>\n",
       "      <td>100671.96</td>\n",
       "      <td>91790.61</td>\n",
       "      <td>249744.55</td>\n",
       "      <td>144259.40</td>\n",
       "    </tr>\n",
       "  </tbody>\n",
       "</table>\n",
       "</div>"
      ],
      "text/plain": [
       "   r_d_spend  Administration  marketing_spend     Profit\n",
       "0  119943.24       156547.42        256512.92  132602.65\n",
       "1   76253.86       113867.30        298664.47  118474.03\n",
       "2   91992.39       135495.07        252664.93  134307.35\n",
       "3   61136.38       152701.92         88218.23   97483.56\n",
       "4   65605.48       153032.06        107138.38  101004.64\n",
       "5   22177.74       154806.14         28334.72   65200.33\n",
       "6  142107.34        91391.77        366168.42  166187.94\n",
       "7   77044.01        99281.34        140574.81  108552.04\n",
       "8   46014.02        85047.44        205517.64   96479.51\n",
       "9  100671.96        91790.61        249744.55  144259.40"
      ]
     },
     "execution_count": 31,
     "metadata": {},
     "output_type": "execute_result"
    }
   ],
   "source": [
    "sample_data"
   ]
  },
  {
   "cell_type": "code",
   "execution_count": 32,
   "id": "sustained-catch",
   "metadata": {},
   "outputs": [],
   "source": [
    "sample_data_input = sample_data.drop([\"Profit\"], axis=1)"
   ]
  },
  {
   "cell_type": "code",
   "execution_count": 40,
   "id": "romantic-ridge",
   "metadata": {},
   "outputs": [],
   "source": [
    "sample_observed_data = sample_data[\"Profit\"]"
   ]
  },
  {
   "cell_type": "code",
   "execution_count": 36,
   "id": "answering-vampire",
   "metadata": {},
   "outputs": [
    {
     "data": {
      "text/html": [
       "<div>\n",
       "<style scoped>\n",
       "    .dataframe tbody tr th:only-of-type {\n",
       "        vertical-align: middle;\n",
       "    }\n",
       "\n",
       "    .dataframe tbody tr th {\n",
       "        vertical-align: top;\n",
       "    }\n",
       "\n",
       "    .dataframe thead th {\n",
       "        text-align: right;\n",
       "    }\n",
       "</style>\n",
       "<table border=\"1\" class=\"dataframe\">\n",
       "  <thead>\n",
       "    <tr style=\"text-align: right;\">\n",
       "      <th></th>\n",
       "      <th>r_d_spend</th>\n",
       "      <th>Administration</th>\n",
       "      <th>marketing_spend</th>\n",
       "    </tr>\n",
       "  </thead>\n",
       "  <tbody>\n",
       "    <tr>\n",
       "      <th>0</th>\n",
       "      <td>119943.24</td>\n",
       "      <td>156547.42</td>\n",
       "      <td>256512.92</td>\n",
       "    </tr>\n",
       "    <tr>\n",
       "      <th>1</th>\n",
       "      <td>76253.86</td>\n",
       "      <td>113867.30</td>\n",
       "      <td>298664.47</td>\n",
       "    </tr>\n",
       "    <tr>\n",
       "      <th>2</th>\n",
       "      <td>91992.39</td>\n",
       "      <td>135495.07</td>\n",
       "      <td>252664.93</td>\n",
       "    </tr>\n",
       "    <tr>\n",
       "      <th>3</th>\n",
       "      <td>61136.38</td>\n",
       "      <td>152701.92</td>\n",
       "      <td>88218.23</td>\n",
       "    </tr>\n",
       "    <tr>\n",
       "      <th>4</th>\n",
       "      <td>65605.48</td>\n",
       "      <td>153032.06</td>\n",
       "      <td>107138.38</td>\n",
       "    </tr>\n",
       "  </tbody>\n",
       "</table>\n",
       "</div>"
      ],
      "text/plain": [
       "   r_d_spend  Administration  marketing_spend\n",
       "0  119943.24       156547.42        256512.92\n",
       "1   76253.86       113867.30        298664.47\n",
       "2   91992.39       135495.07        252664.93\n",
       "3   61136.38       152701.92         88218.23\n",
       "4   65605.48       153032.06        107138.38"
      ]
     },
     "execution_count": 36,
     "metadata": {},
     "output_type": "execute_result"
    }
   ],
   "source": [
    "sample_data_input.head()"
   ]
  },
  {
   "cell_type": "markdown",
   "id": "brilliant-booth",
   "metadata": {},
   "source": [
    "## Predicting using f_model"
   ]
  },
  {
   "cell_type": "code",
   "execution_count": 37,
   "id": "mechanical-traveler",
   "metadata": {},
   "outputs": [],
   "source": [
    "pred_data = f_model.predict(sample_data_input)"
   ]
  },
  {
   "cell_type": "code",
   "execution_count": 38,
   "id": "swiss-stations",
   "metadata": {},
   "outputs": [
    {
     "data": {
      "text/plain": [
       "0    147926.668603\n",
       "1    117359.463201\n",
       "2    127400.521662\n",
       "3     99217.469939\n",
       "4    103034.956336\n",
       "5     67661.790167\n",
       "6    171190.591259\n",
       "7    115808.452422\n",
       "8     93803.106855\n",
       "9    136724.173708\n",
       "dtype: float64"
      ]
     },
     "execution_count": 38,
     "metadata": {},
     "output_type": "execute_result"
    }
   ],
   "source": [
    "pred_data"
   ]
  },
  {
   "cell_type": "code",
   "execution_count": null,
   "id": "statewide-jordan",
   "metadata": {},
   "outputs": [],
   "source": []
  },
  {
   "cell_type": "markdown",
   "id": "dedicated-acrylic",
   "metadata": {},
   "source": [
    "## Finding RMSE"
   ]
  },
  {
   "cell_type": "code",
   "execution_count": 42,
   "id": "thermal-premiere",
   "metadata": {},
   "outputs": [],
   "source": [
    "from sklearn.metrics import mean_squared_error as mse"
   ]
  },
  {
   "cell_type": "code",
   "execution_count": 43,
   "id": "protecting-target",
   "metadata": {},
   "outputs": [
    {
     "name": "stdout",
     "output_type": "stream",
     "text": [
      "6622.569797154745\n"
     ]
    }
   ],
   "source": [
    "rmse = mse(sample_observed_data, pred_data, squared = False)\n",
    "\n",
    "print(rmse)"
   ]
  },
  {
   "cell_type": "code",
   "execution_count": null,
   "id": "moved-integer",
   "metadata": {},
   "outputs": [],
   "source": []
  },
  {
   "cell_type": "code",
   "execution_count": null,
   "id": "written-indonesian",
   "metadata": {},
   "outputs": [],
   "source": []
  },
  {
   "cell_type": "code",
   "execution_count": null,
   "id": "intense-belief",
   "metadata": {},
   "outputs": [],
   "source": []
  },
  {
   "cell_type": "code",
   "execution_count": null,
   "id": "democratic-vanilla",
   "metadata": {},
   "outputs": [],
   "source": []
  },
  {
   "cell_type": "code",
   "execution_count": null,
   "id": "public-occasions",
   "metadata": {},
   "outputs": [],
   "source": []
  },
  {
   "cell_type": "code",
   "execution_count": null,
   "id": "acknowledged-section",
   "metadata": {},
   "outputs": [],
   "source": []
  },
  {
   "cell_type": "code",
   "execution_count": null,
   "id": "renewable-future",
   "metadata": {},
   "outputs": [],
   "source": []
  },
  {
   "cell_type": "markdown",
   "id": "senior-installation",
   "metadata": {},
   "source": [
    "## Preparing model for the transformed data using log 10"
   ]
  },
  {
   "cell_type": "code",
   "execution_count": 96,
   "id": "polar-obligation",
   "metadata": {},
   "outputs": [],
   "source": [
    "new_data2 = startup_copy.drop([\"State\"], axis=1)"
   ]
  },
  {
   "cell_type": "markdown",
   "id": "based-flashing",
   "metadata": {},
   "source": [
    "### In our dataset we have 0 values that might decrease the accuracy of the model"
   ]
  },
  {
   "cell_type": "code",
   "execution_count": 97,
   "id": "random-professional",
   "metadata": {},
   "outputs": [],
   "source": [
    "# Replacing 0 values with nan\n",
    "new_data2.replace(0, np.nan, inplace=True)"
   ]
  },
  {
   "cell_type": "code",
   "execution_count": 98,
   "id": "celtic-receiver",
   "metadata": {},
   "outputs": [],
   "source": [
    "# drop nan values\n",
    "new_data2.dropna(inplace=True)"
   ]
  },
  {
   "cell_type": "code",
   "execution_count": 99,
   "id": "colonial-living",
   "metadata": {
    "collapsed": true,
    "jupyter": {
     "outputs_hidden": true
    }
   },
   "outputs": [
    {
     "data": {
      "text/html": [
       "<div>\n",
       "<style scoped>\n",
       "    .dataframe tbody tr th:only-of-type {\n",
       "        vertical-align: middle;\n",
       "    }\n",
       "\n",
       "    .dataframe tbody tr th {\n",
       "        vertical-align: top;\n",
       "    }\n",
       "\n",
       "    .dataframe thead th {\n",
       "        text-align: right;\n",
       "    }\n",
       "</style>\n",
       "<table border=\"1\" class=\"dataframe\">\n",
       "  <thead>\n",
       "    <tr style=\"text-align: right;\">\n",
       "      <th></th>\n",
       "      <th>r_d_spend</th>\n",
       "      <th>Administration</th>\n",
       "      <th>marketing_spend</th>\n",
       "      <th>Profit</th>\n",
       "    </tr>\n",
       "  </thead>\n",
       "  <tbody>\n",
       "    <tr>\n",
       "      <th>0</th>\n",
       "      <td>165349.20</td>\n",
       "      <td>136897.80</td>\n",
       "      <td>471784.10</td>\n",
       "      <td>192261.83</td>\n",
       "    </tr>\n",
       "    <tr>\n",
       "      <th>1</th>\n",
       "      <td>162597.70</td>\n",
       "      <td>151377.59</td>\n",
       "      <td>443898.53</td>\n",
       "      <td>191792.06</td>\n",
       "    </tr>\n",
       "    <tr>\n",
       "      <th>2</th>\n",
       "      <td>153441.51</td>\n",
       "      <td>101145.55</td>\n",
       "      <td>407934.54</td>\n",
       "      <td>191050.39</td>\n",
       "    </tr>\n",
       "    <tr>\n",
       "      <th>3</th>\n",
       "      <td>144372.41</td>\n",
       "      <td>118671.85</td>\n",
       "      <td>383199.62</td>\n",
       "      <td>182901.99</td>\n",
       "    </tr>\n",
       "    <tr>\n",
       "      <th>4</th>\n",
       "      <td>142107.34</td>\n",
       "      <td>91391.77</td>\n",
       "      <td>366168.42</td>\n",
       "      <td>166187.94</td>\n",
       "    </tr>\n",
       "    <tr>\n",
       "      <th>5</th>\n",
       "      <td>131876.90</td>\n",
       "      <td>99814.71</td>\n",
       "      <td>362861.36</td>\n",
       "      <td>156991.12</td>\n",
       "    </tr>\n",
       "    <tr>\n",
       "      <th>6</th>\n",
       "      <td>134615.46</td>\n",
       "      <td>147198.87</td>\n",
       "      <td>127716.82</td>\n",
       "      <td>156122.51</td>\n",
       "    </tr>\n",
       "    <tr>\n",
       "      <th>7</th>\n",
       "      <td>130298.13</td>\n",
       "      <td>145530.06</td>\n",
       "      <td>323876.68</td>\n",
       "      <td>155752.60</td>\n",
       "    </tr>\n",
       "    <tr>\n",
       "      <th>8</th>\n",
       "      <td>120542.52</td>\n",
       "      <td>148718.95</td>\n",
       "      <td>311613.29</td>\n",
       "      <td>152211.77</td>\n",
       "    </tr>\n",
       "    <tr>\n",
       "      <th>9</th>\n",
       "      <td>123334.88</td>\n",
       "      <td>108679.17</td>\n",
       "      <td>304981.62</td>\n",
       "      <td>149759.96</td>\n",
       "    </tr>\n",
       "    <tr>\n",
       "      <th>10</th>\n",
       "      <td>101913.08</td>\n",
       "      <td>110594.11</td>\n",
       "      <td>229160.95</td>\n",
       "      <td>146121.95</td>\n",
       "    </tr>\n",
       "    <tr>\n",
       "      <th>11</th>\n",
       "      <td>100671.96</td>\n",
       "      <td>91790.61</td>\n",
       "      <td>249744.55</td>\n",
       "      <td>144259.40</td>\n",
       "    </tr>\n",
       "    <tr>\n",
       "      <th>12</th>\n",
       "      <td>93863.75</td>\n",
       "      <td>127320.38</td>\n",
       "      <td>249839.44</td>\n",
       "      <td>141585.52</td>\n",
       "    </tr>\n",
       "    <tr>\n",
       "      <th>13</th>\n",
       "      <td>91992.39</td>\n",
       "      <td>135495.07</td>\n",
       "      <td>252664.93</td>\n",
       "      <td>134307.35</td>\n",
       "    </tr>\n",
       "    <tr>\n",
       "      <th>14</th>\n",
       "      <td>119943.24</td>\n",
       "      <td>156547.42</td>\n",
       "      <td>256512.92</td>\n",
       "      <td>132602.65</td>\n",
       "    </tr>\n",
       "    <tr>\n",
       "      <th>15</th>\n",
       "      <td>114523.61</td>\n",
       "      <td>122616.84</td>\n",
       "      <td>261776.23</td>\n",
       "      <td>129917.04</td>\n",
       "    </tr>\n",
       "    <tr>\n",
       "      <th>16</th>\n",
       "      <td>78013.11</td>\n",
       "      <td>121597.55</td>\n",
       "      <td>264346.06</td>\n",
       "      <td>126992.93</td>\n",
       "    </tr>\n",
       "    <tr>\n",
       "      <th>17</th>\n",
       "      <td>94657.16</td>\n",
       "      <td>145077.58</td>\n",
       "      <td>282574.31</td>\n",
       "      <td>125370.37</td>\n",
       "    </tr>\n",
       "    <tr>\n",
       "      <th>18</th>\n",
       "      <td>91749.16</td>\n",
       "      <td>114175.79</td>\n",
       "      <td>294919.57</td>\n",
       "      <td>124266.90</td>\n",
       "    </tr>\n",
       "    <tr>\n",
       "      <th>20</th>\n",
       "      <td>76253.86</td>\n",
       "      <td>113867.30</td>\n",
       "      <td>298664.47</td>\n",
       "      <td>118474.03</td>\n",
       "    </tr>\n",
       "    <tr>\n",
       "      <th>21</th>\n",
       "      <td>78389.47</td>\n",
       "      <td>153773.43</td>\n",
       "      <td>299737.29</td>\n",
       "      <td>111313.02</td>\n",
       "    </tr>\n",
       "    <tr>\n",
       "      <th>22</th>\n",
       "      <td>73994.56</td>\n",
       "      <td>122782.75</td>\n",
       "      <td>303319.26</td>\n",
       "      <td>110352.25</td>\n",
       "    </tr>\n",
       "    <tr>\n",
       "      <th>23</th>\n",
       "      <td>67532.53</td>\n",
       "      <td>105751.03</td>\n",
       "      <td>304768.73</td>\n",
       "      <td>108733.99</td>\n",
       "    </tr>\n",
       "    <tr>\n",
       "      <th>24</th>\n",
       "      <td>77044.01</td>\n",
       "      <td>99281.34</td>\n",
       "      <td>140574.81</td>\n",
       "      <td>108552.04</td>\n",
       "    </tr>\n",
       "    <tr>\n",
       "      <th>25</th>\n",
       "      <td>64664.71</td>\n",
       "      <td>139553.16</td>\n",
       "      <td>137962.62</td>\n",
       "      <td>107404.34</td>\n",
       "    </tr>\n",
       "    <tr>\n",
       "      <th>26</th>\n",
       "      <td>75328.87</td>\n",
       "      <td>144135.98</td>\n",
       "      <td>134050.07</td>\n",
       "      <td>105733.54</td>\n",
       "    </tr>\n",
       "    <tr>\n",
       "      <th>27</th>\n",
       "      <td>72107.60</td>\n",
       "      <td>127864.55</td>\n",
       "      <td>353183.81</td>\n",
       "      <td>105008.31</td>\n",
       "    </tr>\n",
       "    <tr>\n",
       "      <th>28</th>\n",
       "      <td>66051.52</td>\n",
       "      <td>182645.56</td>\n",
       "      <td>118148.20</td>\n",
       "      <td>103282.38</td>\n",
       "    </tr>\n",
       "    <tr>\n",
       "      <th>29</th>\n",
       "      <td>65605.48</td>\n",
       "      <td>153032.06</td>\n",
       "      <td>107138.38</td>\n",
       "      <td>101004.64</td>\n",
       "    </tr>\n",
       "    <tr>\n",
       "      <th>30</th>\n",
       "      <td>61994.48</td>\n",
       "      <td>115641.28</td>\n",
       "      <td>91131.24</td>\n",
       "      <td>99937.59</td>\n",
       "    </tr>\n",
       "    <tr>\n",
       "      <th>31</th>\n",
       "      <td>61136.38</td>\n",
       "      <td>152701.92</td>\n",
       "      <td>88218.23</td>\n",
       "      <td>97483.56</td>\n",
       "    </tr>\n",
       "    <tr>\n",
       "      <th>32</th>\n",
       "      <td>63408.86</td>\n",
       "      <td>129219.61</td>\n",
       "      <td>46085.25</td>\n",
       "      <td>97427.84</td>\n",
       "    </tr>\n",
       "    <tr>\n",
       "      <th>33</th>\n",
       "      <td>55493.95</td>\n",
       "      <td>103057.49</td>\n",
       "      <td>214634.81</td>\n",
       "      <td>96778.92</td>\n",
       "    </tr>\n",
       "    <tr>\n",
       "      <th>34</th>\n",
       "      <td>46426.07</td>\n",
       "      <td>157693.92</td>\n",
       "      <td>210797.67</td>\n",
       "      <td>96712.80</td>\n",
       "    </tr>\n",
       "    <tr>\n",
       "      <th>35</th>\n",
       "      <td>46014.02</td>\n",
       "      <td>85047.44</td>\n",
       "      <td>205517.64</td>\n",
       "      <td>96479.51</td>\n",
       "    </tr>\n",
       "    <tr>\n",
       "      <th>36</th>\n",
       "      <td>28663.76</td>\n",
       "      <td>127056.21</td>\n",
       "      <td>201126.82</td>\n",
       "      <td>90708.19</td>\n",
       "    </tr>\n",
       "    <tr>\n",
       "      <th>37</th>\n",
       "      <td>44069.95</td>\n",
       "      <td>51283.14</td>\n",
       "      <td>197029.42</td>\n",
       "      <td>89949.14</td>\n",
       "    </tr>\n",
       "    <tr>\n",
       "      <th>38</th>\n",
       "      <td>20229.59</td>\n",
       "      <td>65947.93</td>\n",
       "      <td>185265.10</td>\n",
       "      <td>81229.06</td>\n",
       "    </tr>\n",
       "    <tr>\n",
       "      <th>39</th>\n",
       "      <td>38558.51</td>\n",
       "      <td>82982.09</td>\n",
       "      <td>174999.30</td>\n",
       "      <td>81005.76</td>\n",
       "    </tr>\n",
       "    <tr>\n",
       "      <th>40</th>\n",
       "      <td>28754.33</td>\n",
       "      <td>118546.05</td>\n",
       "      <td>172795.67</td>\n",
       "      <td>78239.91</td>\n",
       "    </tr>\n",
       "    <tr>\n",
       "      <th>41</th>\n",
       "      <td>27892.92</td>\n",
       "      <td>84710.77</td>\n",
       "      <td>164470.71</td>\n",
       "      <td>77798.83</td>\n",
       "    </tr>\n",
       "    <tr>\n",
       "      <th>42</th>\n",
       "      <td>23640.93</td>\n",
       "      <td>96189.63</td>\n",
       "      <td>148001.11</td>\n",
       "      <td>71498.49</td>\n",
       "    </tr>\n",
       "    <tr>\n",
       "      <th>43</th>\n",
       "      <td>15505.73</td>\n",
       "      <td>127382.30</td>\n",
       "      <td>35534.17</td>\n",
       "      <td>69758.98</td>\n",
       "    </tr>\n",
       "    <tr>\n",
       "      <th>44</th>\n",
       "      <td>22177.74</td>\n",
       "      <td>154806.14</td>\n",
       "      <td>28334.72</td>\n",
       "      <td>65200.33</td>\n",
       "    </tr>\n",
       "    <tr>\n",
       "      <th>45</th>\n",
       "      <td>1000.23</td>\n",
       "      <td>124153.04</td>\n",
       "      <td>1903.93</td>\n",
       "      <td>64926.08</td>\n",
       "    </tr>\n",
       "    <tr>\n",
       "      <th>46</th>\n",
       "      <td>1315.46</td>\n",
       "      <td>115816.21</td>\n",
       "      <td>297114.46</td>\n",
       "      <td>49490.75</td>\n",
       "    </tr>\n",
       "  </tbody>\n",
       "</table>\n",
       "</div>"
      ],
      "text/plain": [
       "    r_d_spend  Administration  marketing_spend     Profit\n",
       "0   165349.20       136897.80        471784.10  192261.83\n",
       "1   162597.70       151377.59        443898.53  191792.06\n",
       "2   153441.51       101145.55        407934.54  191050.39\n",
       "3   144372.41       118671.85        383199.62  182901.99\n",
       "4   142107.34        91391.77        366168.42  166187.94\n",
       "5   131876.90        99814.71        362861.36  156991.12\n",
       "6   134615.46       147198.87        127716.82  156122.51\n",
       "7   130298.13       145530.06        323876.68  155752.60\n",
       "8   120542.52       148718.95        311613.29  152211.77\n",
       "9   123334.88       108679.17        304981.62  149759.96\n",
       "10  101913.08       110594.11        229160.95  146121.95\n",
       "11  100671.96        91790.61        249744.55  144259.40\n",
       "12   93863.75       127320.38        249839.44  141585.52\n",
       "13   91992.39       135495.07        252664.93  134307.35\n",
       "14  119943.24       156547.42        256512.92  132602.65\n",
       "15  114523.61       122616.84        261776.23  129917.04\n",
       "16   78013.11       121597.55        264346.06  126992.93\n",
       "17   94657.16       145077.58        282574.31  125370.37\n",
       "18   91749.16       114175.79        294919.57  124266.90\n",
       "20   76253.86       113867.30        298664.47  118474.03\n",
       "21   78389.47       153773.43        299737.29  111313.02\n",
       "22   73994.56       122782.75        303319.26  110352.25\n",
       "23   67532.53       105751.03        304768.73  108733.99\n",
       "24   77044.01        99281.34        140574.81  108552.04\n",
       "25   64664.71       139553.16        137962.62  107404.34\n",
       "26   75328.87       144135.98        134050.07  105733.54\n",
       "27   72107.60       127864.55        353183.81  105008.31\n",
       "28   66051.52       182645.56        118148.20  103282.38\n",
       "29   65605.48       153032.06        107138.38  101004.64\n",
       "30   61994.48       115641.28         91131.24   99937.59\n",
       "31   61136.38       152701.92         88218.23   97483.56\n",
       "32   63408.86       129219.61         46085.25   97427.84\n",
       "33   55493.95       103057.49        214634.81   96778.92\n",
       "34   46426.07       157693.92        210797.67   96712.80\n",
       "35   46014.02        85047.44        205517.64   96479.51\n",
       "36   28663.76       127056.21        201126.82   90708.19\n",
       "37   44069.95        51283.14        197029.42   89949.14\n",
       "38   20229.59        65947.93        185265.10   81229.06\n",
       "39   38558.51        82982.09        174999.30   81005.76\n",
       "40   28754.33       118546.05        172795.67   78239.91\n",
       "41   27892.92        84710.77        164470.71   77798.83\n",
       "42   23640.93        96189.63        148001.11   71498.49\n",
       "43   15505.73       127382.30         35534.17   69758.98\n",
       "44   22177.74       154806.14         28334.72   65200.33\n",
       "45    1000.23       124153.04          1903.93   64926.08\n",
       "46    1315.46       115816.21        297114.46   49490.75"
      ]
     },
     "execution_count": 99,
     "metadata": {},
     "output_type": "execute_result"
    }
   ],
   "source": [
    "new_data2"
   ]
  },
  {
   "cell_type": "code",
   "execution_count": 100,
   "id": "preceding-equation",
   "metadata": {},
   "outputs": [],
   "source": [
    "# Transformation of the data\n",
    "# Log to the base 10 transformation\n",
    "tr_data = np.log10(new_data2)"
   ]
  },
  {
   "cell_type": "code",
   "execution_count": 101,
   "id": "elect-george",
   "metadata": {},
   "outputs": [
    {
     "data": {
      "text/html": [
       "<div>\n",
       "<style scoped>\n",
       "    .dataframe tbody tr th:only-of-type {\n",
       "        vertical-align: middle;\n",
       "    }\n",
       "\n",
       "    .dataframe tbody tr th {\n",
       "        vertical-align: top;\n",
       "    }\n",
       "\n",
       "    .dataframe thead th {\n",
       "        text-align: right;\n",
       "    }\n",
       "</style>\n",
       "<table border=\"1\" class=\"dataframe\">\n",
       "  <thead>\n",
       "    <tr style=\"text-align: right;\">\n",
       "      <th></th>\n",
       "      <th>r_d_spend</th>\n",
       "      <th>Administration</th>\n",
       "      <th>marketing_spend</th>\n",
       "      <th>Profit</th>\n",
       "    </tr>\n",
       "  </thead>\n",
       "  <tbody>\n",
       "    <tr>\n",
       "      <th>0</th>\n",
       "      <td>5.218402</td>\n",
       "      <td>5.136396</td>\n",
       "      <td>5.673743</td>\n",
       "      <td>5.283893</td>\n",
       "    </tr>\n",
       "    <tr>\n",
       "      <th>1</th>\n",
       "      <td>5.211114</td>\n",
       "      <td>5.180062</td>\n",
       "      <td>5.647284</td>\n",
       "      <td>5.282831</td>\n",
       "    </tr>\n",
       "    <tr>\n",
       "      <th>2</th>\n",
       "      <td>5.185943</td>\n",
       "      <td>5.004947</td>\n",
       "      <td>5.610590</td>\n",
       "      <td>5.281148</td>\n",
       "    </tr>\n",
       "    <tr>\n",
       "      <th>3</th>\n",
       "      <td>5.159484</td>\n",
       "      <td>5.074348</td>\n",
       "      <td>5.583425</td>\n",
       "      <td>5.262218</td>\n",
       "    </tr>\n",
       "    <tr>\n",
       "      <th>4</th>\n",
       "      <td>5.152617</td>\n",
       "      <td>4.960907</td>\n",
       "      <td>5.563681</td>\n",
       "      <td>5.220600</td>\n",
       "    </tr>\n",
       "  </tbody>\n",
       "</table>\n",
       "</div>"
      ],
      "text/plain": [
       "   r_d_spend  Administration  marketing_spend    Profit\n",
       "0   5.218402        5.136396         5.673743  5.283893\n",
       "1   5.211114        5.180062         5.647284  5.282831\n",
       "2   5.185943        5.004947         5.610590  5.281148\n",
       "3   5.159484        5.074348         5.583425  5.262218\n",
       "4   5.152617        4.960907         5.563681  5.220600"
      ]
     },
     "execution_count": 101,
     "metadata": {},
     "output_type": "execute_result"
    }
   ],
   "source": [
    "tr_data.head()"
   ]
  },
  {
   "cell_type": "code",
   "execution_count": 102,
   "id": "annual-sympathy",
   "metadata": {},
   "outputs": [
    {
     "data": {
      "text/plain": [
       "<AxesSubplot:>"
      ]
     },
     "execution_count": 102,
     "metadata": {},
     "output_type": "execute_result"
    },
    {
     "data": {
      "image/png": "[encoded data removed]",
      "text/plain": [
       "<Figure size 432x288 with 2 Axes>"
      ]
     },
     "metadata": {
      "needs_background": "light"
     },
     "output_type": "display_data"
    }
   ],
   "source": [
    "sns.heatmap(tr_data.corr(), annot=True, vmin=0, vmax=1)"
   ]
  },
  {
   "cell_type": "code",
   "execution_count": null,
   "id": "honey-marijuana",
   "metadata": {},
   "outputs": [],
   "source": []
  },
  {
   "cell_type": "code",
   "execution_count": 103,
   "id": "processed-salmon",
   "metadata": {},
   "outputs": [],
   "source": [
    "tr_log10_model = smf.ols(\"Profit~r_d_spend+Administration+marketing_spend\", data = tr_data).fit()"
   ]
  },
  {
   "cell_type": "code",
   "execution_count": 104,
   "id": "consolidated-routine",
   "metadata": {},
   "outputs": [
    {
     "data": {
      "text/html": [
       "<table class=\"simpletable\">\n",
       "<caption>OLS Regression Results</caption>\n",
       "<tr>\n",
       "  <th>Dep. Variable:</th>         <td>Profit</td>      <th>  R-squared:         </th> <td>   0.738</td>\n",
       "</tr>\n",
       "<tr>\n",
       "  <th>Model:</th>                   <td>OLS</td>       <th>  Adj. R-squared:    </th> <td>   0.719</td>\n",
       "</tr>\n",
       "<tr>\n",
       "  <th>Method:</th>             <td>Least Squares</td>  <th>  F-statistic:       </th> <td>   39.36</td>\n",
       "</tr>\n",
       "<tr>\n",
       "  <th>Date:</th>             <td>Sat, 23 Jan 2021</td> <th>  Prob (F-statistic):</th> <td>2.85e-12</td>\n",
       "</tr>\n",
       "<tr>\n",
       "  <th>Time:</th>                 <td>19:44:23</td>     <th>  Log-Likelihood:    </th> <td>  57.437</td>\n",
       "</tr>\n",
       "<tr>\n",
       "  <th>No. Observations:</th>      <td>    46</td>      <th>  AIC:               </th> <td>  -106.9</td>\n",
       "</tr>\n",
       "<tr>\n",
       "  <th>Df Residuals:</th>          <td>    42</td>      <th>  BIC:               </th> <td>  -99.56</td>\n",
       "</tr>\n",
       "<tr>\n",
       "  <th>Df Model:</th>              <td>     3</td>      <th>                     </th>     <td> </td>   \n",
       "</tr>\n",
       "<tr>\n",
       "  <th>Covariance Type:</th>      <td>nonrobust</td>    <th>                     </th>     <td> </td>   \n",
       "</tr>\n",
       "</table>\n",
       "<table class=\"simpletable\">\n",
       "<tr>\n",
       "         <td></td>            <th>coef</th>     <th>std err</th>      <th>t</th>      <th>P>|t|</th>  <th>[0.025</th>    <th>0.975]</th>  \n",
       "</tr>\n",
       "<tr>\n",
       "  <th>Intercept</th>       <td>    3.4071</td> <td>    0.572</td> <td>    5.959</td> <td> 0.000</td> <td>    2.253</td> <td>    4.561</td>\n",
       "</tr>\n",
       "<tr>\n",
       "  <th>r_d_spend</th>       <td>    0.2473</td> <td>    0.033</td> <td>    7.439</td> <td> 0.000</td> <td>    0.180</td> <td>    0.314</td>\n",
       "</tr>\n",
       "<tr>\n",
       "  <th>Administration</th>  <td>    0.0709</td> <td>    0.107</td> <td>    0.660</td> <td> 0.513</td> <td>   -0.146</td> <td>    0.288</td>\n",
       "</tr>\n",
       "<tr>\n",
       "  <th>marketing_spend</th> <td>    0.0195</td> <td>    0.037</td> <td>    0.525</td> <td> 0.602</td> <td>   -0.055</td> <td>    0.094</td>\n",
       "</tr>\n",
       "</table>\n",
       "<table class=\"simpletable\">\n",
       "<tr>\n",
       "  <th>Omnibus:</th>       <td>11.370</td> <th>  Durbin-Watson:     </th> <td>   0.856</td>\n",
       "</tr>\n",
       "<tr>\n",
       "  <th>Prob(Omnibus):</th> <td> 0.003</td> <th>  Jarque-Bera (JB):  </th> <td>  11.255</td>\n",
       "</tr>\n",
       "<tr>\n",
       "  <th>Skew:</th>          <td> 1.028</td> <th>  Prob(JB):          </th> <td> 0.00360</td>\n",
       "</tr>\n",
       "<tr>\n",
       "  <th>Kurtosis:</th>      <td> 4.283</td> <th>  Cond. No.          </th> <td>    477.</td>\n",
       "</tr>\n",
       "</table><br/><br/>Notes:<br/>[1] Standard Errors assume that the covariance matrix of the errors is correctly specified."
      ],
      "text/plain": [
       "<class 'statsmodels.iolib.summary.Summary'>\n",
       "\"\"\"\n",
       "                            OLS Regression Results                            \n",
       "==============================================================================\n",
       "Dep. Variable:                 Profit   R-squared:                       0.738\n",
       "Model:                            OLS   Adj. R-squared:                  0.719\n",
       "Method:                 Least Squares   F-statistic:                     39.36\n",
       "Date:                Sat, 23 Jan 2021   Prob (F-statistic):           2.85e-12\n",
       "Time:                        19:44:23   Log-Likelihood:                 57.437\n",
       "No. Observations:                  46   AIC:                            -106.9\n",
       "Df Residuals:                      42   BIC:                            -99.56\n",
       "Df Model:                           3                                         \n",
       "Covariance Type:            nonrobust                                         \n",
       "===================================================================================\n",
       "                      coef    std err          t      P>|t|      [0.025      0.975]\n",
       "-----------------------------------------------------------------------------------\n",
       "Intercept           3.4071      0.572      5.959      0.000       2.253       4.561\n",
       "r_d_spend           0.2473      0.033      7.439      0.000       0.180       0.314\n",
       "Administration      0.0709      0.107      0.660      0.513      -0.146       0.288\n",
       "marketing_spend     0.0195      0.037      0.525      0.602      -0.055       0.094\n",
       "==============================================================================\n",
       "Omnibus:                       11.370   Durbin-Watson:                   0.856\n",
       "Prob(Omnibus):                  0.003   Jarque-Bera (JB):               11.255\n",
       "Skew:                           1.028   Prob(JB):                      0.00360\n",
       "Kurtosis:                       4.283   Cond. No.                         477.\n",
       "==============================================================================\n",
       "\n",
       "Notes:\n",
       "[1] Standard Errors assume that the covariance matrix of the errors is correctly specified.\n",
       "\"\"\""
      ]
     },
     "execution_count": 104,
     "metadata": {},
     "output_type": "execute_result"
    }
   ],
   "source": [
    "tr_log10_model.summary()"
   ]
  },
  {
   "cell_type": "code",
   "execution_count": 105,
   "id": "sublime-trading",
   "metadata": {},
   "outputs": [],
   "source": [
    "tr_rsquared, tr_rsquared_adj, tr_aic = (tr_log10_model.rsquared, tr_log10_model.rsquared_adj, tr_log10_model.aic)"
   ]
  },
  {
   "cell_type": "code",
   "execution_count": 106,
   "id": "isolated-cleaners",
   "metadata": {},
   "outputs": [
    {
     "name": "stdout",
     "output_type": "stream",
     "text": [
      "0.7376373888816573\n",
      "0.7188972023732043\n",
      "-106.87424927681423\n"
     ]
    }
   ],
   "source": [
    "print(tr_rsquared)\n",
    "print(tr_rsquared_adj)\n",
    "print(tr_aic)"
   ]
  },
  {
   "cell_type": "code",
   "execution_count": 111,
   "id": "authorized-microphone",
   "metadata": {},
   "outputs": [],
   "source": [
    "sample_data2 = new_data2.sample(10)"
   ]
  },
  {
   "cell_type": "code",
   "execution_count": 112,
   "id": "mounted-baker",
   "metadata": {},
   "outputs": [],
   "source": [
    "tr_sample = np.log10(sample_data2)"
   ]
  },
  {
   "cell_type": "code",
   "execution_count": 115,
   "id": "norman-seminar",
   "metadata": {},
   "outputs": [
    {
     "data": {
      "text/html": [
       "<div>\n",
       "<style scoped>\n",
       "    .dataframe tbody tr th:only-of-type {\n",
       "        vertical-align: middle;\n",
       "    }\n",
       "\n",
       "    .dataframe tbody tr th {\n",
       "        vertical-align: top;\n",
       "    }\n",
       "\n",
       "    .dataframe thead th {\n",
       "        text-align: right;\n",
       "    }\n",
       "</style>\n",
       "<table border=\"1\" class=\"dataframe\">\n",
       "  <thead>\n",
       "    <tr style=\"text-align: right;\">\n",
       "      <th></th>\n",
       "      <th>r_d_spend</th>\n",
       "      <th>Administration</th>\n",
       "      <th>marketing_spend</th>\n",
       "      <th>Profit</th>\n",
       "    </tr>\n",
       "  </thead>\n",
       "  <tbody>\n",
       "    <tr>\n",
       "      <th>4</th>\n",
       "      <td>5.152617</td>\n",
       "      <td>4.960907</td>\n",
       "      <td>5.563681</td>\n",
       "      <td>5.220600</td>\n",
       "    </tr>\n",
       "    <tr>\n",
       "      <th>38</th>\n",
       "      <td>4.305987</td>\n",
       "      <td>4.819201</td>\n",
       "      <td>5.267794</td>\n",
       "      <td>4.909711</td>\n",
       "    </tr>\n",
       "    <tr>\n",
       "      <th>44</th>\n",
       "      <td>4.345917</td>\n",
       "      <td>5.189788</td>\n",
       "      <td>4.452319</td>\n",
       "      <td>4.814250</td>\n",
       "    </tr>\n",
       "    <tr>\n",
       "      <th>5</th>\n",
       "      <td>5.120169</td>\n",
       "      <td>4.999195</td>\n",
       "      <td>5.559741</td>\n",
       "      <td>5.195875</td>\n",
       "    </tr>\n",
       "    <tr>\n",
       "      <th>9</th>\n",
       "      <td>5.091086</td>\n",
       "      <td>5.036146</td>\n",
       "      <td>5.484274</td>\n",
       "      <td>5.175396</td>\n",
       "    </tr>\n",
       "  </tbody>\n",
       "</table>\n",
       "</div>"
      ],
      "text/plain": [
       "    r_d_spend  Administration  marketing_spend    Profit\n",
       "4    5.152617        4.960907         5.563681  5.220600\n",
       "38   4.305987        4.819201         5.267794  4.909711\n",
       "44   4.345917        5.189788         4.452319  4.814250\n",
       "5    5.120169        4.999195         5.559741  5.195875\n",
       "9    5.091086        5.036146         5.484274  5.175396"
      ]
     },
     "execution_count": 115,
     "metadata": {},
     "output_type": "execute_result"
    }
   ],
   "source": [
    "tr_sample.head()"
   ]
  },
  {
   "cell_type": "code",
   "execution_count": 116,
   "id": "tired-bidding",
   "metadata": {},
   "outputs": [],
   "source": [
    "tr_predicted_data = tr_log10_model.predict(tr_sample)"
   ]
  },
  {
   "cell_type": "code",
   "execution_count": 117,
   "id": "tested-conflict",
   "metadata": {},
   "outputs": [
    {
     "data": {
      "text/plain": [
       "4     5.140954\n",
       "38    4.915811\n",
       "44    4.936060\n",
       "5     5.135566\n",
       "9     5.129524\n",
       "46    4.643655\n",
       "36    4.974106\n",
       "26    5.078314\n",
       "40    4.971028\n",
       "7     5.144914\n",
       "dtype: float64"
      ]
     },
     "execution_count": 117,
     "metadata": {},
     "output_type": "execute_result"
    }
   ],
   "source": [
    "tr_predicted_data"
   ]
  },
  {
   "cell_type": "code",
   "execution_count": 118,
   "id": "desperate-bangkok",
   "metadata": {},
   "outputs": [],
   "source": [
    "tr_predict_data = (10**tr_predicted_data)"
   ]
  },
  {
   "cell_type": "code",
   "execution_count": 119,
   "id": "developmental-lafayette",
   "metadata": {},
   "outputs": [
    {
     "data": {
      "text/plain": [
       "4     138341.826782\n",
       "38     82377.970492\n",
       "44     86309.761573\n",
       "5     136636.378436\n",
       "9     134748.403870\n",
       "46     44020.497305\n",
       "36     94211.985312\n",
       "26    119760.677980\n",
       "40     93546.512500\n",
       "7     139609.244369\n",
       "dtype: float64"
      ]
     },
     "execution_count": 119,
     "metadata": {},
     "output_type": "execute_result"
    }
   ],
   "source": [
    "tr_predict_data"
   ]
  },
  {
   "cell_type": "code",
   "execution_count": null,
   "id": "broadband-marks",
   "metadata": {},
   "outputs": [],
   "source": []
  },
  {
   "cell_type": "markdown",
   "id": "proved-tactics",
   "metadata": {},
   "source": [
    "### RMSE of model on log10 transformed data "
   ]
  },
  {
   "cell_type": "code",
   "execution_count": 120,
   "id": "satisfied-finnish",
   "metadata": {},
   "outputs": [
    {
     "name": "stdout",
     "output_type": "stream",
     "text": [
      "16111.66439807379\n"
     ]
    }
   ],
   "source": [
    "rmse2 = mse(sample_data2[\"Profit\"], tr_predict_data, squared = False)\n",
    "\n",
    "print(rmse2)"
   ]
  },
  {
   "cell_type": "code",
   "execution_count": null,
   "id": "committed-productivity",
   "metadata": {},
   "outputs": [],
   "source": []
  },
  {
   "cell_type": "code",
   "execution_count": null,
   "id": "personalized-corruption",
   "metadata": {},
   "outputs": [],
   "source": []
  },
  {
   "cell_type": "code",
   "execution_count": null,
   "id": "comparative-macro",
   "metadata": {},
   "outputs": [],
   "source": []
  },
  {
   "cell_type": "code",
   "execution_count": null,
   "id": "previous-charleston",
   "metadata": {},
   "outputs": [],
   "source": []
  },
  {
   "cell_type": "code",
   "execution_count": null,
   "id": "exceptional-invitation",
   "metadata": {},
   "outputs": [],
   "source": []
  },
  {
   "cell_type": "code",
   "execution_count": null,
   "id": "pharmaceutical-gardening",
   "metadata": {},
   "outputs": [],
   "source": []
  },
  {
   "cell_type": "markdown",
   "id": "incoming-liechtenstein",
   "metadata": {},
   "source": [
    "## Preparing model for the transformed data using natural log"
   ]
  },
  {
   "cell_type": "code",
   "execution_count": 121,
   "id": "opposite-naples",
   "metadata": {},
   "outputs": [],
   "source": [
    "new_data3 = startup_copy.drop([\"State\"], axis=1)"
   ]
  },
  {
   "cell_type": "markdown",
   "id": "prostate-lewis",
   "metadata": {},
   "source": [
    "### In our dataset we have 0 values that might decrease the accuracy of the model"
   ]
  },
  {
   "cell_type": "code",
   "execution_count": 122,
   "id": "reduced-packet",
   "metadata": {
    "collapsed": true,
    "jupyter": {
     "outputs_hidden": true
    }
   },
   "outputs": [
    {
     "data": {
      "text/html": [
       "<div>\n",
       "<style scoped>\n",
       "    .dataframe tbody tr th:only-of-type {\n",
       "        vertical-align: middle;\n",
       "    }\n",
       "\n",
       "    .dataframe tbody tr th {\n",
       "        vertical-align: top;\n",
       "    }\n",
       "\n",
       "    .dataframe thead th {\n",
       "        text-align: right;\n",
       "    }\n",
       "</style>\n",
       "<table border=\"1\" class=\"dataframe\">\n",
       "  <thead>\n",
       "    <tr style=\"text-align: right;\">\n",
       "      <th></th>\n",
       "      <th>r_d_spend</th>\n",
       "      <th>Administration</th>\n",
       "      <th>marketing_spend</th>\n",
       "      <th>Profit</th>\n",
       "    </tr>\n",
       "  </thead>\n",
       "  <tbody>\n",
       "    <tr>\n",
       "      <th>0</th>\n",
       "      <td>165349.20</td>\n",
       "      <td>136897.80</td>\n",
       "      <td>471784.10</td>\n",
       "      <td>192261.83</td>\n",
       "    </tr>\n",
       "    <tr>\n",
       "      <th>1</th>\n",
       "      <td>162597.70</td>\n",
       "      <td>151377.59</td>\n",
       "      <td>443898.53</td>\n",
       "      <td>191792.06</td>\n",
       "    </tr>\n",
       "    <tr>\n",
       "      <th>2</th>\n",
       "      <td>153441.51</td>\n",
       "      <td>101145.55</td>\n",
       "      <td>407934.54</td>\n",
       "      <td>191050.39</td>\n",
       "    </tr>\n",
       "    <tr>\n",
       "      <th>3</th>\n",
       "      <td>144372.41</td>\n",
       "      <td>118671.85</td>\n",
       "      <td>383199.62</td>\n",
       "      <td>182901.99</td>\n",
       "    </tr>\n",
       "    <tr>\n",
       "      <th>4</th>\n",
       "      <td>142107.34</td>\n",
       "      <td>91391.77</td>\n",
       "      <td>366168.42</td>\n",
       "      <td>166187.94</td>\n",
       "    </tr>\n",
       "    <tr>\n",
       "      <th>5</th>\n",
       "      <td>131876.90</td>\n",
       "      <td>99814.71</td>\n",
       "      <td>362861.36</td>\n",
       "      <td>156991.12</td>\n",
       "    </tr>\n",
       "    <tr>\n",
       "      <th>6</th>\n",
       "      <td>134615.46</td>\n",
       "      <td>147198.87</td>\n",
       "      <td>127716.82</td>\n",
       "      <td>156122.51</td>\n",
       "    </tr>\n",
       "    <tr>\n",
       "      <th>7</th>\n",
       "      <td>130298.13</td>\n",
       "      <td>145530.06</td>\n",
       "      <td>323876.68</td>\n",
       "      <td>155752.60</td>\n",
       "    </tr>\n",
       "    <tr>\n",
       "      <th>8</th>\n",
       "      <td>120542.52</td>\n",
       "      <td>148718.95</td>\n",
       "      <td>311613.29</td>\n",
       "      <td>152211.77</td>\n",
       "    </tr>\n",
       "    <tr>\n",
       "      <th>9</th>\n",
       "      <td>123334.88</td>\n",
       "      <td>108679.17</td>\n",
       "      <td>304981.62</td>\n",
       "      <td>149759.96</td>\n",
       "    </tr>\n",
       "    <tr>\n",
       "      <th>10</th>\n",
       "      <td>101913.08</td>\n",
       "      <td>110594.11</td>\n",
       "      <td>229160.95</td>\n",
       "      <td>146121.95</td>\n",
       "    </tr>\n",
       "    <tr>\n",
       "      <th>11</th>\n",
       "      <td>100671.96</td>\n",
       "      <td>91790.61</td>\n",
       "      <td>249744.55</td>\n",
       "      <td>144259.40</td>\n",
       "    </tr>\n",
       "    <tr>\n",
       "      <th>12</th>\n",
       "      <td>93863.75</td>\n",
       "      <td>127320.38</td>\n",
       "      <td>249839.44</td>\n",
       "      <td>141585.52</td>\n",
       "    </tr>\n",
       "    <tr>\n",
       "      <th>13</th>\n",
       "      <td>91992.39</td>\n",
       "      <td>135495.07</td>\n",
       "      <td>252664.93</td>\n",
       "      <td>134307.35</td>\n",
       "    </tr>\n",
       "    <tr>\n",
       "      <th>14</th>\n",
       "      <td>119943.24</td>\n",
       "      <td>156547.42</td>\n",
       "      <td>256512.92</td>\n",
       "      <td>132602.65</td>\n",
       "    </tr>\n",
       "    <tr>\n",
       "      <th>15</th>\n",
       "      <td>114523.61</td>\n",
       "      <td>122616.84</td>\n",
       "      <td>261776.23</td>\n",
       "      <td>129917.04</td>\n",
       "    </tr>\n",
       "    <tr>\n",
       "      <th>16</th>\n",
       "      <td>78013.11</td>\n",
       "      <td>121597.55</td>\n",
       "      <td>264346.06</td>\n",
       "      <td>126992.93</td>\n",
       "    </tr>\n",
       "    <tr>\n",
       "      <th>17</th>\n",
       "      <td>94657.16</td>\n",
       "      <td>145077.58</td>\n",
       "      <td>282574.31</td>\n",
       "      <td>125370.37</td>\n",
       "    </tr>\n",
       "    <tr>\n",
       "      <th>18</th>\n",
       "      <td>91749.16</td>\n",
       "      <td>114175.79</td>\n",
       "      <td>294919.57</td>\n",
       "      <td>124266.90</td>\n",
       "    </tr>\n",
       "    <tr>\n",
       "      <th>20</th>\n",
       "      <td>76253.86</td>\n",
       "      <td>113867.30</td>\n",
       "      <td>298664.47</td>\n",
       "      <td>118474.03</td>\n",
       "    </tr>\n",
       "    <tr>\n",
       "      <th>21</th>\n",
       "      <td>78389.47</td>\n",
       "      <td>153773.43</td>\n",
       "      <td>299737.29</td>\n",
       "      <td>111313.02</td>\n",
       "    </tr>\n",
       "    <tr>\n",
       "      <th>22</th>\n",
       "      <td>73994.56</td>\n",
       "      <td>122782.75</td>\n",
       "      <td>303319.26</td>\n",
       "      <td>110352.25</td>\n",
       "    </tr>\n",
       "    <tr>\n",
       "      <th>23</th>\n",
       "      <td>67532.53</td>\n",
       "      <td>105751.03</td>\n",
       "      <td>304768.73</td>\n",
       "      <td>108733.99</td>\n",
       "    </tr>\n",
       "    <tr>\n",
       "      <th>24</th>\n",
       "      <td>77044.01</td>\n",
       "      <td>99281.34</td>\n",
       "      <td>140574.81</td>\n",
       "      <td>108552.04</td>\n",
       "    </tr>\n",
       "    <tr>\n",
       "      <th>25</th>\n",
       "      <td>64664.71</td>\n",
       "      <td>139553.16</td>\n",
       "      <td>137962.62</td>\n",
       "      <td>107404.34</td>\n",
       "    </tr>\n",
       "    <tr>\n",
       "      <th>26</th>\n",
       "      <td>75328.87</td>\n",
       "      <td>144135.98</td>\n",
       "      <td>134050.07</td>\n",
       "      <td>105733.54</td>\n",
       "    </tr>\n",
       "    <tr>\n",
       "      <th>27</th>\n",
       "      <td>72107.60</td>\n",
       "      <td>127864.55</td>\n",
       "      <td>353183.81</td>\n",
       "      <td>105008.31</td>\n",
       "    </tr>\n",
       "    <tr>\n",
       "      <th>28</th>\n",
       "      <td>66051.52</td>\n",
       "      <td>182645.56</td>\n",
       "      <td>118148.20</td>\n",
       "      <td>103282.38</td>\n",
       "    </tr>\n",
       "    <tr>\n",
       "      <th>29</th>\n",
       "      <td>65605.48</td>\n",
       "      <td>153032.06</td>\n",
       "      <td>107138.38</td>\n",
       "      <td>101004.64</td>\n",
       "    </tr>\n",
       "    <tr>\n",
       "      <th>30</th>\n",
       "      <td>61994.48</td>\n",
       "      <td>115641.28</td>\n",
       "      <td>91131.24</td>\n",
       "      <td>99937.59</td>\n",
       "    </tr>\n",
       "    <tr>\n",
       "      <th>31</th>\n",
       "      <td>61136.38</td>\n",
       "      <td>152701.92</td>\n",
       "      <td>88218.23</td>\n",
       "      <td>97483.56</td>\n",
       "    </tr>\n",
       "    <tr>\n",
       "      <th>32</th>\n",
       "      <td>63408.86</td>\n",
       "      <td>129219.61</td>\n",
       "      <td>46085.25</td>\n",
       "      <td>97427.84</td>\n",
       "    </tr>\n",
       "    <tr>\n",
       "      <th>33</th>\n",
       "      <td>55493.95</td>\n",
       "      <td>103057.49</td>\n",
       "      <td>214634.81</td>\n",
       "      <td>96778.92</td>\n",
       "    </tr>\n",
       "    <tr>\n",
       "      <th>34</th>\n",
       "      <td>46426.07</td>\n",
       "      <td>157693.92</td>\n",
       "      <td>210797.67</td>\n",
       "      <td>96712.80</td>\n",
       "    </tr>\n",
       "    <tr>\n",
       "      <th>35</th>\n",
       "      <td>46014.02</td>\n",
       "      <td>85047.44</td>\n",
       "      <td>205517.64</td>\n",
       "      <td>96479.51</td>\n",
       "    </tr>\n",
       "    <tr>\n",
       "      <th>36</th>\n",
       "      <td>28663.76</td>\n",
       "      <td>127056.21</td>\n",
       "      <td>201126.82</td>\n",
       "      <td>90708.19</td>\n",
       "    </tr>\n",
       "    <tr>\n",
       "      <th>37</th>\n",
       "      <td>44069.95</td>\n",
       "      <td>51283.14</td>\n",
       "      <td>197029.42</td>\n",
       "      <td>89949.14</td>\n",
       "    </tr>\n",
       "    <tr>\n",
       "      <th>38</th>\n",
       "      <td>20229.59</td>\n",
       "      <td>65947.93</td>\n",
       "      <td>185265.10</td>\n",
       "      <td>81229.06</td>\n",
       "    </tr>\n",
       "    <tr>\n",
       "      <th>39</th>\n",
       "      <td>38558.51</td>\n",
       "      <td>82982.09</td>\n",
       "      <td>174999.30</td>\n",
       "      <td>81005.76</td>\n",
       "    </tr>\n",
       "    <tr>\n",
       "      <th>40</th>\n",
       "      <td>28754.33</td>\n",
       "      <td>118546.05</td>\n",
       "      <td>172795.67</td>\n",
       "      <td>78239.91</td>\n",
       "    </tr>\n",
       "    <tr>\n",
       "      <th>41</th>\n",
       "      <td>27892.92</td>\n",
       "      <td>84710.77</td>\n",
       "      <td>164470.71</td>\n",
       "      <td>77798.83</td>\n",
       "    </tr>\n",
       "    <tr>\n",
       "      <th>42</th>\n",
       "      <td>23640.93</td>\n",
       "      <td>96189.63</td>\n",
       "      <td>148001.11</td>\n",
       "      <td>71498.49</td>\n",
       "    </tr>\n",
       "    <tr>\n",
       "      <th>43</th>\n",
       "      <td>15505.73</td>\n",
       "      <td>127382.30</td>\n",
       "      <td>35534.17</td>\n",
       "      <td>69758.98</td>\n",
       "    </tr>\n",
       "    <tr>\n",
       "      <th>44</th>\n",
       "      <td>22177.74</td>\n",
       "      <td>154806.14</td>\n",
       "      <td>28334.72</td>\n",
       "      <td>65200.33</td>\n",
       "    </tr>\n",
       "    <tr>\n",
       "      <th>45</th>\n",
       "      <td>1000.23</td>\n",
       "      <td>124153.04</td>\n",
       "      <td>1903.93</td>\n",
       "      <td>64926.08</td>\n",
       "    </tr>\n",
       "    <tr>\n",
       "      <th>46</th>\n",
       "      <td>1315.46</td>\n",
       "      <td>115816.21</td>\n",
       "      <td>297114.46</td>\n",
       "      <td>49490.75</td>\n",
       "    </tr>\n",
       "  </tbody>\n",
       "</table>\n",
       "</div>"
      ],
      "text/plain": [
       "    r_d_spend  Administration  marketing_spend     Profit\n",
       "0   165349.20       136897.80        471784.10  192261.83\n",
       "1   162597.70       151377.59        443898.53  191792.06\n",
       "2   153441.51       101145.55        407934.54  191050.39\n",
       "3   144372.41       118671.85        383199.62  182901.99\n",
       "4   142107.34        91391.77        366168.42  166187.94\n",
       "5   131876.90        99814.71        362861.36  156991.12\n",
       "6   134615.46       147198.87        127716.82  156122.51\n",
       "7   130298.13       145530.06        323876.68  155752.60\n",
       "8   120542.52       148718.95        311613.29  152211.77\n",
       "9   123334.88       108679.17        304981.62  149759.96\n",
       "10  101913.08       110594.11        229160.95  146121.95\n",
       "11  100671.96        91790.61        249744.55  144259.40\n",
       "12   93863.75       127320.38        249839.44  141585.52\n",
       "13   91992.39       135495.07        252664.93  134307.35\n",
       "14  119943.24       156547.42        256512.92  132602.65\n",
       "15  114523.61       122616.84        261776.23  129917.04\n",
       "16   78013.11       121597.55        264346.06  126992.93\n",
       "17   94657.16       145077.58        282574.31  125370.37\n",
       "18   91749.16       114175.79        294919.57  124266.90\n",
       "20   76253.86       113867.30        298664.47  118474.03\n",
       "21   78389.47       153773.43        299737.29  111313.02\n",
       "22   73994.56       122782.75        303319.26  110352.25\n",
       "23   67532.53       105751.03        304768.73  108733.99\n",
       "24   77044.01        99281.34        140574.81  108552.04\n",
       "25   64664.71       139553.16        137962.62  107404.34\n",
       "26   75328.87       144135.98        134050.07  105733.54\n",
       "27   72107.60       127864.55        353183.81  105008.31\n",
       "28   66051.52       182645.56        118148.20  103282.38\n",
       "29   65605.48       153032.06        107138.38  101004.64\n",
       "30   61994.48       115641.28         91131.24   99937.59\n",
       "31   61136.38       152701.92         88218.23   97483.56\n",
       "32   63408.86       129219.61         46085.25   97427.84\n",
       "33   55493.95       103057.49        214634.81   96778.92\n",
       "34   46426.07       157693.92        210797.67   96712.80\n",
       "35   46014.02        85047.44        205517.64   96479.51\n",
       "36   28663.76       127056.21        201126.82   90708.19\n",
       "37   44069.95        51283.14        197029.42   89949.14\n",
       "38   20229.59        65947.93        185265.10   81229.06\n",
       "39   38558.51        82982.09        174999.30   81005.76\n",
       "40   28754.33       118546.05        172795.67   78239.91\n",
       "41   27892.92        84710.77        164470.71   77798.83\n",
       "42   23640.93        96189.63        148001.11   71498.49\n",
       "43   15505.73       127382.30         35534.17   69758.98\n",
       "44   22177.74       154806.14         28334.72   65200.33\n",
       "45    1000.23       124153.04          1903.93   64926.08\n",
       "46    1315.46       115816.21        297114.46   49490.75"
      ]
     },
     "execution_count": 122,
     "metadata": {},
     "output_type": "execute_result"
    }
   ],
   "source": [
    "new_data3"
   ]
  },
  {
   "cell_type": "code",
   "execution_count": 125,
   "id": "endless-basis",
   "metadata": {},
   "outputs": [],
   "source": [
    "# Transformation of the data\n",
    "# Log to the base 10 transformation\n",
    "tr_data = np.log(new_data3)"
   ]
  },
  {
   "cell_type": "code",
   "execution_count": 126,
   "id": "remarkable-kenya",
   "metadata": {},
   "outputs": [
    {
     "data": {
      "text/html": [
       "<div>\n",
       "<style scoped>\n",
       "    .dataframe tbody tr th:only-of-type {\n",
       "        vertical-align: middle;\n",
       "    }\n",
       "\n",
       "    .dataframe tbody tr th {\n",
       "        vertical-align: top;\n",
       "    }\n",
       "\n",
       "    .dataframe thead th {\n",
       "        text-align: right;\n",
       "    }\n",
       "</style>\n",
       "<table border=\"1\" class=\"dataframe\">\n",
       "  <thead>\n",
       "    <tr style=\"text-align: right;\">\n",
       "      <th></th>\n",
       "      <th>r_d_spend</th>\n",
       "      <th>Administration</th>\n",
       "      <th>marketing_spend</th>\n",
       "      <th>Profit</th>\n",
       "    </tr>\n",
       "  </thead>\n",
       "  <tbody>\n",
       "    <tr>\n",
       "      <th>0</th>\n",
       "      <td>12.015815</td>\n",
       "      <td>11.826990</td>\n",
       "      <td>13.064277</td>\n",
       "      <td>12.166613</td>\n",
       "    </tr>\n",
       "    <tr>\n",
       "      <th>1</th>\n",
       "      <td>11.999034</td>\n",
       "      <td>11.927533</td>\n",
       "      <td>13.003351</td>\n",
       "      <td>12.164167</td>\n",
       "    </tr>\n",
       "    <tr>\n",
       "      <th>2</th>\n",
       "      <td>11.941075</td>\n",
       "      <td>11.524316</td>\n",
       "      <td>12.918862</td>\n",
       "      <td>12.160292</td>\n",
       "    </tr>\n",
       "    <tr>\n",
       "      <th>3</th>\n",
       "      <td>11.880151</td>\n",
       "      <td>11.684117</td>\n",
       "      <td>12.856311</td>\n",
       "      <td>12.116706</td>\n",
       "    </tr>\n",
       "    <tr>\n",
       "      <th>4</th>\n",
       "      <td>11.864338</td>\n",
       "      <td>11.422911</td>\n",
       "      <td>12.810849</td>\n",
       "      <td>12.020875</td>\n",
       "    </tr>\n",
       "  </tbody>\n",
       "</table>\n",
       "</div>"
      ],
      "text/plain": [
       "   r_d_spend  Administration  marketing_spend     Profit\n",
       "0  12.015815       11.826990        13.064277  12.166613\n",
       "1  11.999034       11.927533        13.003351  12.164167\n",
       "2  11.941075       11.524316        12.918862  12.160292\n",
       "3  11.880151       11.684117        12.856311  12.116706\n",
       "4  11.864338       11.422911        12.810849  12.020875"
      ]
     },
     "execution_count": 126,
     "metadata": {},
     "output_type": "execute_result"
    }
   ],
   "source": [
    "tr_data.head()"
   ]
  },
  {
   "cell_type": "code",
   "execution_count": 127,
   "id": "superb-snake",
   "metadata": {},
   "outputs": [
    {
     "data": {
      "text/plain": [
       "<AxesSubplot:>"
      ]
     },
     "execution_count": 127,
     "metadata": {},
     "output_type": "execute_result"
    },
    {
     "data": {
      "image/png": "[encoded data removed]",
      "text/plain": [
       "<Figure size 432x288 with 2 Axes>"
      ]
     },
     "metadata": {
      "needs_background": "light"
     },
     "output_type": "display_data"
    }
   ],
   "source": [
    "sns.heatmap(tr_data.corr(), annot=True, vmin=0, vmax=1)"
   ]
  },
  {
   "cell_type": "code",
   "execution_count": null,
   "id": "considered-requirement",
   "metadata": {},
   "outputs": [],
   "source": []
  },
  {
   "cell_type": "code",
   "execution_count": 128,
   "id": "velvet-philippines",
   "metadata": {},
   "outputs": [],
   "source": [
    "tr_log_model = smf.ols(\"Profit~r_d_spend+Administration+marketing_spend\", data = tr_data).fit()"
   ]
  },
  {
   "cell_type": "code",
   "execution_count": 129,
   "id": "registered-discount",
   "metadata": {},
   "outputs": [
    {
     "data": {
      "text/html": [
       "<table class=\"simpletable\">\n",
       "<caption>OLS Regression Results</caption>\n",
       "<tr>\n",
       "  <th>Dep. Variable:</th>         <td>Profit</td>      <th>  R-squared:         </th> <td>   0.738</td>\n",
       "</tr>\n",
       "<tr>\n",
       "  <th>Model:</th>                   <td>OLS</td>       <th>  Adj. R-squared:    </th> <td>   0.719</td>\n",
       "</tr>\n",
       "<tr>\n",
       "  <th>Method:</th>             <td>Least Squares</td>  <th>  F-statistic:       </th> <td>   39.36</td>\n",
       "</tr>\n",
       "<tr>\n",
       "  <th>Date:</th>             <td>Sat, 23 Jan 2021</td> <th>  Prob (F-statistic):</th> <td>2.85e-12</td>\n",
       "</tr>\n",
       "<tr>\n",
       "  <th>Time:</th>                 <td>19:46:56</td>     <th>  Log-Likelihood:    </th> <td>  19.072</td>\n",
       "</tr>\n",
       "<tr>\n",
       "  <th>No. Observations:</th>      <td>    46</td>      <th>  AIC:               </th> <td>  -30.14</td>\n",
       "</tr>\n",
       "<tr>\n",
       "  <th>Df Residuals:</th>          <td>    42</td>      <th>  BIC:               </th> <td>  -22.83</td>\n",
       "</tr>\n",
       "<tr>\n",
       "  <th>Df Model:</th>              <td>     3</td>      <th>                     </th>     <td> </td>   \n",
       "</tr>\n",
       "<tr>\n",
       "  <th>Covariance Type:</th>      <td>nonrobust</td>    <th>                     </th>     <td> </td>   \n",
       "</tr>\n",
       "</table>\n",
       "<table class=\"simpletable\">\n",
       "<tr>\n",
       "         <td></td>            <th>coef</th>     <th>std err</th>      <th>t</th>      <th>P>|t|</th>  <th>[0.025</th>    <th>0.975]</th>  \n",
       "</tr>\n",
       "<tr>\n",
       "  <th>Intercept</th>       <td>    7.8451</td> <td>    1.316</td> <td>    5.959</td> <td> 0.000</td> <td>    5.188</td> <td>   10.502</td>\n",
       "</tr>\n",
       "<tr>\n",
       "  <th>r_d_spend</th>       <td>    0.2473</td> <td>    0.033</td> <td>    7.439</td> <td> 0.000</td> <td>    0.180</td> <td>    0.314</td>\n",
       "</tr>\n",
       "<tr>\n",
       "  <th>Administration</th>  <td>    0.0709</td> <td>    0.107</td> <td>    0.660</td> <td> 0.513</td> <td>   -0.146</td> <td>    0.288</td>\n",
       "</tr>\n",
       "<tr>\n",
       "  <th>marketing_spend</th> <td>    0.0195</td> <td>    0.037</td> <td>    0.525</td> <td> 0.602</td> <td>   -0.055</td> <td>    0.094</td>\n",
       "</tr>\n",
       "</table>\n",
       "<table class=\"simpletable\">\n",
       "<tr>\n",
       "  <th>Omnibus:</th>       <td>11.370</td> <th>  Durbin-Watson:     </th> <td>   0.856</td>\n",
       "</tr>\n",
       "<tr>\n",
       "  <th>Prob(Omnibus):</th> <td> 0.003</td> <th>  Jarque-Bera (JB):  </th> <td>  11.255</td>\n",
       "</tr>\n",
       "<tr>\n",
       "  <th>Skew:</th>          <td> 1.028</td> <th>  Prob(JB):          </th> <td> 0.00360</td>\n",
       "</tr>\n",
       "<tr>\n",
       "  <th>Kurtosis:</th>      <td> 4.283</td> <th>  Cond. No.          </th> <td>1.08e+03</td>\n",
       "</tr>\n",
       "</table><br/><br/>Notes:<br/>[1] Standard Errors assume that the covariance matrix of the errors is correctly specified.<br/>[2] The condition number is large, 1.08e+03. This might indicate that there are<br/>strong multicollinearity or other numerical problems."
      ],
      "text/plain": [
       "<class 'statsmodels.iolib.summary.Summary'>\n",
       "\"\"\"\n",
       "                            OLS Regression Results                            \n",
       "==============================================================================\n",
       "Dep. Variable:                 Profit   R-squared:                       0.738\n",
       "Model:                            OLS   Adj. R-squared:                  0.719\n",
       "Method:                 Least Squares   F-statistic:                     39.36\n",
       "Date:                Sat, 23 Jan 2021   Prob (F-statistic):           2.85e-12\n",
       "Time:                        19:46:56   Log-Likelihood:                 19.072\n",
       "No. Observations:                  46   AIC:                            -30.14\n",
       "Df Residuals:                      42   BIC:                            -22.83\n",
       "Df Model:                           3                                         \n",
       "Covariance Type:            nonrobust                                         \n",
       "===================================================================================\n",
       "                      coef    std err          t      P>|t|      [0.025      0.975]\n",
       "-----------------------------------------------------------------------------------\n",
       "Intercept           7.8451      1.316      5.959      0.000       5.188      10.502\n",
       "r_d_spend           0.2473      0.033      7.439      0.000       0.180       0.314\n",
       "Administration      0.0709      0.107      0.660      0.513      -0.146       0.288\n",
       "marketing_spend     0.0195      0.037      0.525      0.602      -0.055       0.094\n",
       "==============================================================================\n",
       "Omnibus:                       11.370   Durbin-Watson:                   0.856\n",
       "Prob(Omnibus):                  0.003   Jarque-Bera (JB):               11.255\n",
       "Skew:                           1.028   Prob(JB):                      0.00360\n",
       "Kurtosis:                       4.283   Cond. No.                     1.08e+03\n",
       "==============================================================================\n",
       "\n",
       "Notes:\n",
       "[1] Standard Errors assume that the covariance matrix of the errors is correctly specified.\n",
       "[2] The condition number is large, 1.08e+03. This might indicate that there are\n",
       "strong multicollinearity or other numerical problems.\n",
       "\"\"\""
      ]
     },
     "execution_count": 129,
     "metadata": {},
     "output_type": "execute_result"
    }
   ],
   "source": [
    "tr_log_model.summary()"
   ]
  },
  {
   "cell_type": "code",
   "execution_count": 130,
   "id": "sunrise-imagination",
   "metadata": {},
   "outputs": [],
   "source": [
    "tr_rsquared, tr_rsquared_adj, tr_aic = (tr_log_model.rsquared, tr_log_model.rsquared_adj, tr_log_model.aic)"
   ]
  },
  {
   "cell_type": "code",
   "execution_count": 131,
   "id": "blond-haiti",
   "metadata": {},
   "outputs": [
    {
     "name": "stdout",
     "output_type": "stream",
     "text": [
      "0.7376373888816563\n",
      "0.7188972023732032\n",
      "-30.143264314002195\n"
     ]
    }
   ],
   "source": [
    "print(tr_rsquared)\n",
    "print(tr_rsquared_adj)\n",
    "print(tr_aic)"
   ]
  },
  {
   "cell_type": "code",
   "execution_count": null,
   "id": "widespread-economy",
   "metadata": {},
   "outputs": [],
   "source": []
  },
  {
   "cell_type": "code",
   "execution_count": 135,
   "id": "electronic-threat",
   "metadata": {},
   "outputs": [],
   "source": [
    "sample_data3 = new_data3.sample(10)"
   ]
  },
  {
   "cell_type": "code",
   "execution_count": 136,
   "id": "accepted-pension",
   "metadata": {},
   "outputs": [
    {
     "data": {
      "text/html": [
       "<div>\n",
       "<style scoped>\n",
       "    .dataframe tbody tr th:only-of-type {\n",
       "        vertical-align: middle;\n",
       "    }\n",
       "\n",
       "    .dataframe tbody tr th {\n",
       "        vertical-align: top;\n",
       "    }\n",
       "\n",
       "    .dataframe thead th {\n",
       "        text-align: right;\n",
       "    }\n",
       "</style>\n",
       "<table border=\"1\" class=\"dataframe\">\n",
       "  <thead>\n",
       "    <tr style=\"text-align: right;\">\n",
       "      <th></th>\n",
       "      <th>r_d_spend</th>\n",
       "      <th>Administration</th>\n",
       "      <th>marketing_spend</th>\n",
       "      <th>Profit</th>\n",
       "    </tr>\n",
       "  </thead>\n",
       "  <tbody>\n",
       "    <tr>\n",
       "      <th>0</th>\n",
       "      <td>1000.23</td>\n",
       "      <td>124153.04</td>\n",
       "      <td>1903.93</td>\n",
       "      <td>64926.08</td>\n",
       "    </tr>\n",
       "    <tr>\n",
       "      <th>1</th>\n",
       "      <td>66051.52</td>\n",
       "      <td>182645.56</td>\n",
       "      <td>118148.20</td>\n",
       "      <td>103282.38</td>\n",
       "    </tr>\n",
       "    <tr>\n",
       "      <th>2</th>\n",
       "      <td>142107.34</td>\n",
       "      <td>91391.77</td>\n",
       "      <td>366168.42</td>\n",
       "      <td>166187.94</td>\n",
       "    </tr>\n",
       "    <tr>\n",
       "      <th>3</th>\n",
       "      <td>120542.52</td>\n",
       "      <td>148718.95</td>\n",
       "      <td>311613.29</td>\n",
       "      <td>152211.77</td>\n",
       "    </tr>\n",
       "    <tr>\n",
       "      <th>4</th>\n",
       "      <td>22177.74</td>\n",
       "      <td>154806.14</td>\n",
       "      <td>28334.72</td>\n",
       "      <td>65200.33</td>\n",
       "    </tr>\n",
       "  </tbody>\n",
       "</table>\n",
       "</div>"
      ],
      "text/plain": [
       "   r_d_spend  Administration  marketing_spend     Profit\n",
       "0    1000.23       124153.04          1903.93   64926.08\n",
       "1   66051.52       182645.56        118148.20  103282.38\n",
       "2  142107.34        91391.77        366168.42  166187.94\n",
       "3  120542.52       148718.95        311613.29  152211.77\n",
       "4   22177.74       154806.14         28334.72   65200.33"
      ]
     },
     "execution_count": 136,
     "metadata": {},
     "output_type": "execute_result"
    }
   ],
   "source": [
    "sample_data.head()"
   ]
  },
  {
   "cell_type": "code",
   "execution_count": 137,
   "id": "fatal-coach",
   "metadata": {},
   "outputs": [],
   "source": [
    "tr_sample_log = np.log(sample_data2)"
   ]
  },
  {
   "cell_type": "code",
   "execution_count": null,
   "id": "tired-university",
   "metadata": {},
   "outputs": [],
   "source": []
  },
  {
   "cell_type": "code",
   "execution_count": 138,
   "id": "flying-sound",
   "metadata": {},
   "outputs": [
    {
     "data": {
      "text/html": [
       "<div>\n",
       "<style scoped>\n",
       "    .dataframe tbody tr th:only-of-type {\n",
       "        vertical-align: middle;\n",
       "    }\n",
       "\n",
       "    .dataframe tbody tr th {\n",
       "        vertical-align: top;\n",
       "    }\n",
       "\n",
       "    .dataframe thead th {\n",
       "        text-align: right;\n",
       "    }\n",
       "</style>\n",
       "<table border=\"1\" class=\"dataframe\">\n",
       "  <thead>\n",
       "    <tr style=\"text-align: right;\">\n",
       "      <th></th>\n",
       "      <th>r_d_spend</th>\n",
       "      <th>Administration</th>\n",
       "      <th>marketing_spend</th>\n",
       "      <th>Profit</th>\n",
       "    </tr>\n",
       "  </thead>\n",
       "  <tbody>\n",
       "    <tr>\n",
       "      <th>4</th>\n",
       "      <td>11.864338</td>\n",
       "      <td>11.422911</td>\n",
       "      <td>12.810849</td>\n",
       "      <td>12.020875</td>\n",
       "    </tr>\n",
       "    <tr>\n",
       "      <th>38</th>\n",
       "      <td>9.914902</td>\n",
       "      <td>11.096621</td>\n",
       "      <td>12.129543</td>\n",
       "      <td>11.305028</td>\n",
       "    </tr>\n",
       "    <tr>\n",
       "      <th>44</th>\n",
       "      <td>10.006844</td>\n",
       "      <td>11.949929</td>\n",
       "      <td>10.251843</td>\n",
       "      <td>11.085220</td>\n",
       "    </tr>\n",
       "    <tr>\n",
       "      <th>5</th>\n",
       "      <td>11.789624</td>\n",
       "      <td>11.511071</td>\n",
       "      <td>12.801776</td>\n",
       "      <td>11.963945</td>\n",
       "    </tr>\n",
       "    <tr>\n",
       "      <th>9</th>\n",
       "      <td>11.722659</td>\n",
       "      <td>11.596155</td>\n",
       "      <td>12.628007</td>\n",
       "      <td>11.916789</td>\n",
       "    </tr>\n",
       "  </tbody>\n",
       "</table>\n",
       "</div>"
      ],
      "text/plain": [
       "    r_d_spend  Administration  marketing_spend     Profit\n",
       "4   11.864338       11.422911        12.810849  12.020875\n",
       "38   9.914902       11.096621        12.129543  11.305028\n",
       "44  10.006844       11.949929        10.251843  11.085220\n",
       "5   11.789624       11.511071        12.801776  11.963945\n",
       "9   11.722659       11.596155        12.628007  11.916789"
      ]
     },
     "execution_count": 138,
     "metadata": {},
     "output_type": "execute_result"
    }
   ],
   "source": [
    "tr_sample_log.head()"
   ]
  },
  {
   "cell_type": "code",
   "execution_count": 146,
   "id": "competitive-motel",
   "metadata": {},
   "outputs": [],
   "source": [
    "tr_predicted_data_log = tr_log_model.predict(tr_sample_log)"
   ]
  },
  {
   "cell_type": "code",
   "execution_count": 147,
   "id": "successful-transport",
   "metadata": {},
   "outputs": [
    {
     "data": {
      "text/plain": [
       "4     11.837483\n",
       "38    11.319073\n",
       "44    11.365698\n",
       "5     11.825079\n",
       "9     11.811165\n",
       "46    10.692411\n",
       "36    11.453303\n",
       "26    11.693251\n",
       "40    11.446214\n",
       "7     11.846603\n",
       "dtype: float64"
      ]
     },
     "execution_count": 147,
     "metadata": {},
     "output_type": "execute_result"
    }
   ],
   "source": [
    "tr_predicted_data_log"
   ]
  },
  {
   "cell_type": "code",
   "execution_count": 148,
   "id": "proved-entertainment",
   "metadata": {},
   "outputs": [],
   "source": [
    "predict_data_log = np.exp(tr_predicted_data_log)"
   ]
  },
  {
   "cell_type": "code",
   "execution_count": 149,
   "id": "collective-darwin",
   "metadata": {},
   "outputs": [
    {
     "data": {
      "text/plain": [
       "4     138341.826782\n",
       "38     82377.970492\n",
       "44     86309.761573\n",
       "5     136636.378436\n",
       "9     134748.403870\n",
       "46     44020.497305\n",
       "36     94211.985312\n",
       "26    119760.677980\n",
       "40     93546.512500\n",
       "7     139609.244369\n",
       "dtype: float64"
      ]
     },
     "execution_count": 149,
     "metadata": {},
     "output_type": "execute_result"
    }
   ],
   "source": [
    "predict_data_log"
   ]
  },
  {
   "cell_type": "code",
   "execution_count": null,
   "id": "prostate-oxide",
   "metadata": {},
   "outputs": [],
   "source": []
  },
  {
   "cell_type": "code",
   "execution_count": 150,
   "id": "african-belgium",
   "metadata": {},
   "outputs": [
    {
     "name": "stdout",
     "output_type": "stream",
     "text": [
      "35836.93610660092\n"
     ]
    }
   ],
   "source": [
    "rmse3 = mse(sample_data3[\"Profit\"], predict_data_log, squared = False)\n",
    "\n",
    "print(rmse3)"
   ]
  },
  {
   "cell_type": "code",
   "execution_count": null,
   "id": "current-agreement",
   "metadata": {},
   "outputs": [],
   "source": []
  },
  {
   "cell_type": "code",
   "execution_count": null,
   "id": "married-version",
   "metadata": {},
   "outputs": [],
   "source": []
  },
  {
   "cell_type": "code",
   "execution_count": null,
   "id": "recovered-technique",
   "metadata": {},
   "outputs": [],
   "source": []
  },
  {
   "cell_type": "code",
   "execution_count": null,
   "id": "declared-exhibition",
   "metadata": {},
   "outputs": [],
   "source": []
  },
  {
   "cell_type": "code",
   "execution_count": 152,
   "id": "colonial-intent",
   "metadata": {},
   "outputs": [],
   "source": [
    "model_results = {\"models\": ['f_model', 'tr_log10_model', 'tr_log_model'], \n",
    "                 \"rsquared\": [f_model.rsquared, tr_log10_model.rsquared, tr_log_model.rsquared], \n",
    "                 \"rsquared_adj\": [f_model.rsquared_adj, tr_log10_model.rsquared_adj, tr_log_model.rsquared_adj], \n",
    "                 \"model_aic\": [f_model.aic, tr_log10_model.aic, tr_log_model.aic],\n",
    "                 \"model_rmse\": [rmse, rmse2, rmse3]}"
   ]
  },
  {
   "cell_type": "code",
   "execution_count": 153,
   "id": "knowing-wyoming",
   "metadata": {},
   "outputs": [],
   "source": [
    "model_results = pd.DataFrame(model_results)"
   ]
  },
  {
   "cell_type": "code",
   "execution_count": 154,
   "id": "comprehensive-planner",
   "metadata": {},
   "outputs": [
    {
     "data": {
      "text/html": [
       "<div>\n",
       "<style scoped>\n",
       "    .dataframe tbody tr th:only-of-type {\n",
       "        vertical-align: middle;\n",
       "    }\n",
       "\n",
       "    .dataframe tbody tr th {\n",
       "        vertical-align: top;\n",
       "    }\n",
       "\n",
       "    .dataframe thead th {\n",
       "        text-align: right;\n",
       "    }\n",
       "</style>\n",
       "<table border=\"1\" class=\"dataframe\">\n",
       "  <thead>\n",
       "    <tr style=\"text-align: right;\">\n",
       "      <th></th>\n",
       "      <th>models</th>\n",
       "      <th>rsquared</th>\n",
       "      <th>rsquared_adj</th>\n",
       "      <th>model_aic</th>\n",
       "      <th>model_rmse</th>\n",
       "    </tr>\n",
       "  </thead>\n",
       "  <tbody>\n",
       "    <tr>\n",
       "      <th>0</th>\n",
       "      <td>f_model</td>\n",
       "      <td>0.960823</td>\n",
       "      <td>0.958025</td>\n",
       "      <td>953.601449</td>\n",
       "      <td>5300.886635</td>\n",
       "    </tr>\n",
       "    <tr>\n",
       "      <th>1</th>\n",
       "      <td>tr_log10_model</td>\n",
       "      <td>0.737637</td>\n",
       "      <td>0.718897</td>\n",
       "      <td>-106.874249</td>\n",
       "      <td>16111.664398</td>\n",
       "    </tr>\n",
       "    <tr>\n",
       "      <th>2</th>\n",
       "      <td>tr_log_model</td>\n",
       "      <td>0.737637</td>\n",
       "      <td>0.718897</td>\n",
       "      <td>-30.143264</td>\n",
       "      <td>35836.936107</td>\n",
       "    </tr>\n",
       "  </tbody>\n",
       "</table>\n",
       "</div>"
      ],
      "text/plain": [
       "           models  rsquared  rsquared_adj   model_aic    model_rmse\n",
       "0         f_model  0.960823      0.958025  953.601449   5300.886635\n",
       "1  tr_log10_model  0.737637      0.718897 -106.874249  16111.664398\n",
       "2    tr_log_model  0.737637      0.718897  -30.143264  35836.936107"
      ]
     },
     "execution_count": 154,
     "metadata": {},
     "output_type": "execute_result"
    }
   ],
   "source": [
    "model_results"
   ]
  },
  {
   "cell_type": "markdown",
   "id": "theoretical-gibraltar",
   "metadata": {},
   "source": [
    "#### Model rmse will change as the sample for the testing data is random everytime"
   ]
  },
  {
   "cell_type": "code",
   "execution_count": null,
   "id": "detected-community",
   "metadata": {},
   "outputs": [],
   "source": []
  }
 ],
 "metadata": {
  "kernelspec": {
   "display_name": "Python 3",
   "language": "python",
   "name": "python3"
  },
  "language_info": {
   "codemirror_mode": {
    "name": "ipython",
    "version": 3
   },
   "file_extension": ".py",
   "mimetype": "text/x-python",
   "name": "python",
   "nbconvert_exporter": "python",
   "pygments_lexer": "ipython3",
   "version": "3.8.5"
  }
 },
 "nbformat": 4,
 "nbformat_minor": 5
}
